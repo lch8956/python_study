{
 "cells": [
  {
   "cell_type": "code",
   "execution_count": 1,
   "metadata": {
    "collapsed": false
   },
   "outputs": [
    {
     "name": "stdout",
     "output_type": "stream",
     "text": [
      "100\n"
     ]
    }
   ],
   "source": [
    "print 100"
   ]
  },
  {
   "cell_type": "code",
   "execution_count": 2,
   "metadata": {
    "collapsed": false
   },
   "outputs": [
    {
     "name": "stdout",
     "output_type": "stream",
     "text": [
      "4.0\n",
      "14.1421356237\n"
     ]
    }
   ],
   "source": [
    "import math\n",
    "\n",
    "print abs(math.ceil(-4.3))\n",
    "\n",
    "x1 = 10\n",
    "x2 = 20\n",
    "y1 = 30\n",
    "y2 = 40\n",
    "\n",
    "print math.sqrt(pow(x2-x1, 2) + pow(y2-y1, 2))"
   ]
  },
  {
   "cell_type": "code",
   "execution_count": 13,
   "metadata": {
    "collapsed": false
   },
   "outputs": [
    {
     "name": "stdout",
     "output_type": "stream",
     "text": [
      "ac\n",
      "dcba\n"
     ]
    }
   ],
   "source": [
    "s = 'abcd'\n",
    "print s[::2]\n",
    "print s[::-1]"
   ]
  },
  {
   "cell_type": "code",
   "execution_count": 16,
   "metadata": {
    "collapsed": false
   },
   "outputs": [
    {
     "name": "stdout",
     "output_type": "stream",
     "text": [
      "[1, 2, 3, 4, 5, 6, 7, 8, 9]\n",
      "9\n"
     ]
    }
   ],
   "source": [
    "s = [1, 2, 3, 4, 5, 6, 7, 8]\n",
    "s = s + [9]\n",
    "print s\n",
    "print s[8]"
   ]
  },
  {
   "cell_type": "code",
   "execution_count": 30,
   "metadata": {
    "collapsed": false
   },
   "outputs": [
    {
     "name": "stdout",
     "output_type": "stream",
     "text": [
      "[1]\n",
      "1\n",
      "(1, 2, 3, 4)\n"
     ]
    }
   ],
   "source": [
    "s = []\n",
    "s = s + [1]\n",
    "print s\n",
    "\n",
    "t = (1, 2, 3, 4)\n",
    "print t[0]\n",
    "print t"
   ]
  },
  {
   "cell_type": "code",
   "execution_count": 11,
   "metadata": {
    "collapsed": false
   },
   "outputs": [
    {
     "name": "stdout",
     "output_type": "stream",
     "text": [
      "29261072 29261072\n",
      "46817720 46817720\n",
      "True\n",
      "\n",
      "46806536 46817672\n",
      "46817768 46817768\n",
      "False\n"
     ]
    }
   ],
   "source": [
    "x = 256\n",
    "y = 256\n",
    "\n",
    "print id(x), id(y)\n",
    "print id(x+1), id(y+1)\n",
    "\n",
    "print x is y\n",
    "print \n",
    "\n",
    "x = 257\n",
    "y = 257\n",
    "\n",
    "print id(x), id(y)\n",
    "print id(x+1), id(y+1)\n",
    "\n",
    "print x is y\n",
    "#257부터 가리키는 객체의 값이 달라지는 듯???"
   ]
  },
  {
   "cell_type": "code",
   "execution_count": 1,
   "metadata": {
    "collapsed": false
   },
   "outputs": [
    {
     "name": "stdout",
     "output_type": "stream",
     "text": [
      "99299\n"
     ]
    }
   ],
   "source": [
    "#프로젝트 오일러 4번\n",
    "def isSame(a):\n",
    "    returning = False\n",
    "    line = str(a)\n",
    "    if len(line) == 5:\n",
    "        if line[0:2] == line[-1:-3:-1]:\n",
    "            returning = True\n",
    "    elif len(line) == 6:        \n",
    "        if line[0:3] == line[-1:-4]:\n",
    "            returning = True\n",
    "    return returning\n",
    "\n",
    "array = []\n",
    "for x in range(100, 1000):\n",
    "    for y in range(100, 1000):\n",
    "        if isSame(x*y):      \n",
    "            array = array + [x*y]\n",
    "        y = y + 1\n",
    "    x = x + 1\n",
    "print array[-1]"
   ]
  },
  {
   "cell_type": "code",
   "execution_count": 23,
   "metadata": {
    "collapsed": false
   },
   "outputs": [
    {
     "name": "stdout",
     "output_type": "stream",
     "text": [
      "232792560\n"
     ]
    }
   ],
   "source": [
    "#프로젝트 오일러 5번 문제입니다.\n",
    "import math\n",
    "\n",
    "def isPrime(x): \n",
    "    returning = True \n",
    "    for i in range(2,int(math.sqrt(x))+1):\n",
    "        if x%i==0: \n",
    "            returning = False\n",
    "            return returning\n",
    "    return returning\n",
    "\n",
    "def SubNum(value, x):\n",
    "    divide = 0\n",
    "    for a in range(2, (x/2)+1):\n",
    "        if (value % a == 0) and (x % a == 0):\n",
    "            divide = a\n",
    "    return x / divide\n",
    "\n",
    "value = 1\n",
    "for x in range(2, 21):\n",
    "    if isPrime(x):\n",
    "        value *= x\n",
    "    elif (value % x) != 0:\n",
    "        value *= SubNum(value, x)\n",
    "    elif value % x == 0:\n",
    "        continue\n",
    "print value"
   ]
  },
  {
   "cell_type": "code",
   "execution_count": 18,
   "metadata": {
    "collapsed": false
   },
   "outputs": [
    {
     "name": "stdout",
     "output_type": "stream",
     "text": [
      "25164150\n"
     ]
    }
   ],
   "source": [
    "#프로젝트 오일러 6번\n",
    "sum1 = 0;\n",
    "sum2 = 0;\n",
    "for x in range(1, 101):\n",
    "    sum1 += x\n",
    "    sum2 += (x*x)\n",
    "    \n",
    "print (sum1*sum1) - sum2"
   ]
  },
  {
   "cell_type": "code",
   "execution_count": 25,
   "metadata": {
    "collapsed": false
   },
   "outputs": [
    {
     "name": "stdout",
     "output_type": "stream",
     "text": [
      "104743\n"
     ]
    }
   ],
   "source": [
    "#프로젝트 오일러 7번 \n",
    "import math\n",
    "\n",
    "def isPrime(x): \n",
    "    returning = True \n",
    "    for i in range(2,int(math.sqrt(x))+1):\n",
    "        if x%i==0: \n",
    "            returning = False\n",
    "            return returning\n",
    "    return returning\n",
    "\n",
    "array = []\n",
    "x = 1\n",
    "while len(array) <= 10001:\n",
    "    if isPrime(x):\n",
    "        array += [x]\n",
    "    x += 1\n",
    "print array[-1]"
   ]
  },
  {
   "cell_type": "code",
   "execution_count": 12,
   "metadata": {
    "collapsed": false
   },
   "outputs": [
    {
     "name": "stdout",
     "output_type": "stream",
     "text": [
      "200 375 425\n",
      "31875000\n"
     ]
    }
   ],
   "source": [
    "#프로젝트 오일러 9번 문제입니다. 프로젝트 실행시키는데 1분 30초나 걸림 \n",
    "output = 0\n",
    "stop = False\n",
    "for a in range(1, 1001):\n",
    "    for b in range(1, 1001):\n",
    "        for c in range(1, 1001):\n",
    "            if a + b + c != 1000:\n",
    "                continue\n",
    "            elif a + b + c == 1000:\n",
    "                if a*a + b*b == c*c:\n",
    "                    print a, b, c\n",
    "                    stop = True\n",
    "                    output = a*b*c\n",
    "                    break\n",
    "                else:\n",
    "                    continue\n",
    "        if stop == True:\n",
    "                break\n",
    "    if stop == True:\n",
    "                break\n",
    "print output"
   ]
  },
  {
   "cell_type": "code",
   "execution_count": 9,
   "metadata": {
    "collapsed": false
   },
   "outputs": [
    {
     "name": "stdout",
     "output_type": "stream",
     "text": [
      "142913828923\n"
     ]
    }
   ],
   "source": [
    "#프로젝트 오일러 10번\n",
    "import math\n",
    "\n",
    "def isPrime(x): \n",
    "    returning = True \n",
    "    for i in range(2,int(math.sqrt(x))+1):\n",
    "        if x%i==0: \n",
    "            returning = False\n",
    "            return returning\n",
    "    return returning\n",
    "\n",
    "sum = 0\n",
    "for x in range(1, 2000001):\n",
    "    if isPrime(x):\n",
    "        sum += x\n",
    "print sum"
   ]
  },
  {
   "cell_type": "code",
   "execution_count": 4,
   "metadata": {
    "collapsed": false
   },
   "outputs": [
    {
     "name": "stdout",
     "output_type": "stream",
     "text": [
      "76588876\n"
     ]
    }
   ],
   "source": [
    "#프로젝트 오일러 12번 문제입니다. 소인수 분해하는 공식이 제일 중요\n",
    "import math\n",
    "def FindSub(power):\n",
    "    sum = 1\n",
    "    subnum = 0\n",
    "    while power % 2 == 0:\n",
    "        power = power / 2\n",
    "        subnum += 1\n",
    "    \n",
    "    sum = sum * (subnum+1)\n",
    "    \n",
    "    for b in range(3, int(math.sqrt(power))):\n",
    "        subnum = 0\n",
    "        while power % b == 0:\n",
    "            power = power / b\n",
    "            subnum += 1\n",
    "        sum = sum * (subnum+1)\n",
    "        if power == 1:\n",
    "            break\n",
    "        b += 2\n",
    "        \n",
    "    if power != 1:\n",
    "        sum *= 2\n",
    "        \n",
    "    return sum\n",
    "\n",
    "count = 0\n",
    "x = 1\n",
    "\n",
    "while count < 500:\n",
    "    if FindSub((x*(x+1))/2) >= 500:\n",
    "        count = FindSub((x*(x+1))/2)\n",
    "    x += 1\n",
    "print (x*(x+1))/2"
   ]
  },
  {
   "cell_type": "code",
   "execution_count": 24,
   "metadata": {
    "collapsed": false
   },
   "outputs": [
    {
     "name": "stdout",
     "output_type": "stream",
     "text": [
      "가장 오래 걸리는 숫자는 :  837799   걸린 횟수는 :  524\n"
     ]
    }
   ],
   "source": [
    "#프로젝트 오일러 14번 문제입니다.\n",
    "def Calculate(x, i):\n",
    "    while x != 1:\n",
    "        if x % 2 == 0:\n",
    "            x = x / 2\n",
    "            i += 1\n",
    "        elif x % 2 == 1:\n",
    "            x = (3 * x) + 1\n",
    "            i += 1\n",
    "    return i\n",
    "\n",
    "max = 0\n",
    "for x in range(2, 1000001):\n",
    "    i = 0\n",
    "    sum = Calculate(x, i)\n",
    "    if max < sum:\n",
    "        max = sum\n",
    "        order = x\n",
    "    x += 1\n",
    "print '가장 오래 걸리는 숫자는 : ', order, \" \", '걸린 횟수는 : ', max"
   ]
  },
  {
   "cell_type": "code",
   "execution_count": 28,
   "metadata": {
    "collapsed": false
   },
   "outputs": [
    {
     "name": "stdout",
     "output_type": "stream",
     "text": [
      "1327\n"
     ]
    }
   ],
   "source": [
    "#프로젝트 오일러 16번 문제입니다.\n",
    "sum = 1024 #1024 = 2의 10제곱 계산을 100번 반복하기 위하여 2의 10제곱 사용 -> 2의 1000제곱 = 1024의 100제곱\n",
    "sum2 = 0;\n",
    "for x in range(1,101):\n",
    "    sum *= 1024\n",
    "array = str(sum)\n",
    "for x in range(len(array)):\n",
    "    sum2 = sum2 + int(array[x:x+1])\n",
    "print sum2"
   ]
  },
  {
   "cell_type": "code",
   "execution_count": 9,
   "metadata": {
    "collapsed": false
   },
   "outputs": [
    {
     "name": "stdout",
     "output_type": "stream",
     "text": [
      "경우의 수는 총 :  172\n"
     ]
    }
   ],
   "source": [
    "#프로젝트 오일러 19번 문제입니다.\n",
    "array = [0]\n",
    "sum = 0;\n",
    "for x in range(1900, 2001):\n",
    "    if ((x % 4 == 0) and (x % 100 != 0)) or (x % 400 == 0):    \n",
    "        for y in range(1, 13):\n",
    "            if y == 1 or y == 3 or y == 5 or y == 7 or y == 8 or y == 10 or y == 12:\n",
    "                for z in range(1, 32):\n",
    "                    array = array + [z]\n",
    "            elif y == 4 or y == 6 or y == 9 or y == 11:\n",
    "                for z in range(1, 31):\n",
    "                    array = array + [z]\n",
    "            elif y == 2:\n",
    "                for z in range(1, 30):\n",
    "                    array = array + [z]\n",
    "    else :\n",
    "        for y in range(1, 13):\n",
    "            if y == 1 or y == 3 or y == 5 or y == 7 or y == 8 or y == 10 or y == 12:\n",
    "                for z in range(1, 32):\n",
    "                    array = array + [z]\n",
    "            elif y == 4 or y == 6 or y == 9 or y == 11:\n",
    "                for z in range(1, 31):\n",
    "                    array = array + [z]\n",
    "            elif y == 2:\n",
    "                for z in range(1, 29):\n",
    "                    array = array + [z]\n",
    "\n",
    "for a in range(len(array)):\n",
    "     if (array[a] == 1) and (a % 7 == 0):\n",
    "            sum += 1\n",
    "print '경우의 수는 총 : ', sum-1"
   ]
  },
  {
   "cell_type": "code",
   "execution_count": 3,
   "metadata": {
    "collapsed": false
   },
   "outputs": [
    {
     "name": "stdout",
     "output_type": "stream",
     "text": [
      "648\n"
     ]
    }
   ],
   "source": [
    "#프로젝트 오일러 20번\n",
    "sum = 1\n",
    "SumNum = 0;\n",
    "for x in range(1, 100):\n",
    "    sum = sum * x\n",
    "array = str(sum)\n",
    "for x in range(len(array)):\n",
    "    SumNum = SumNum + int(array[x:x+1])\n",
    "print SumNum"
   ]
  },
  {
   "cell_type": "code",
   "execution_count": 4,
   "metadata": {
    "collapsed": false
   },
   "outputs": [
    {
     "name": "stdout",
     "output_type": "stream",
     "text": [
      "정답은 :  21\n"
     ]
    }
   ],
   "source": [
    "#프로젝트 오일러 25번 문제입니다.\n",
    "array = [1, 1]\n",
    "i = 1\n",
    "\n",
    "while array[i] < 10000:    \n",
    "    array = array + [array[i-1] + array[i]]\n",
    "    i = i + 1\n",
    "\n",
    "print '정답은 : ', len(array)"
   ]
  },
  {
   "cell_type": "code",
   "execution_count": 3,
   "metadata": {
    "collapsed": false
   },
   "outputs": [
    {
     "name": "stdout",
     "output_type": "stream",
     "text": [
      "669171001\n"
     ]
    }
   ],
   "source": [
    "#프로젝트 오일러 28번 문제입니다.\n",
    "sum = 1\n",
    "\n",
    "for x in range(1, 501):\n",
    "    sum += 4 * (2 * x +1) * (2 * x +1) - 6 *((2 * x))\n",
    "print sum                                        "
   ]
  },
  {
   "cell_type": "code",
   "execution_count": 4,
   "metadata": {
    "collapsed": false
   },
   "outputs": [
    {
     "name": "stdout",
     "output_type": "stream",
     "text": [
      "9183\n"
     ]
    }
   ],
   "source": [
    "#프로젝트 오일러 29번 문제입니다.\n",
    "sum = 0\n",
    "array = []\n",
    "for a in range(2, 101):\n",
    "    for b in range(2, 101):\n",
    "        if pow(a, b) in array:\n",
    "            continue\n",
    "        else :\n",
    "            array += [pow(a, b)]\n",
    "print len(array)"
   ]
  },
  {
   "cell_type": "code",
   "execution_count": 16,
   "metadata": {
    "collapsed": false
   },
   "outputs": [
    {
     "name": "stdout",
     "output_type": "stream",
     "text": [
      "443839\n"
     ]
    }
   ],
   "source": [
    "#프로젝트 오일러 30번 문제입니다.\n",
    "def SumNum(x):\n",
    "    line = str(x)\n",
    "    returning = 0\n",
    "    for y in range(len(line)):\n",
    "        returning += pow(int(line[y:y+1]),5)\n",
    "    return returning\n",
    "    \n",
    "sum = 0\n",
    "\n",
    "for x in range(2, 1000000):\n",
    "    if x == SumNum(x):\n",
    "        sum += x\n",
    "print sum"
   ]
  },
  {
   "cell_type": "code",
   "execution_count": 17,
   "metadata": {
    "collapsed": false
   },
   "outputs": [
    {
     "ename": "KeyboardInterrupt",
     "evalue": "",
     "output_type": "error",
     "traceback": [
      "\u001b[1;31m---------------------------------------------------------------------------\u001b[0m",
      "\u001b[1;31mKeyboardInterrupt\u001b[0m                         Traceback (most recent call last)",
      "\u001b[1;32m<ipython-input-17-58a8180cc2a9>\u001b[0m in \u001b[0;36m<module>\u001b[1;34m()\u001b[0m\n\u001b[0;32m     14\u001b[0m \u001b[0mwholenum\u001b[0m \u001b[1;33m=\u001b[0m \u001b[1;36m0\u001b[0m\u001b[1;33m\u001b[0m\u001b[0m\n\u001b[0;32m     15\u001b[0m \u001b[1;32mfor\u001b[0m \u001b[0mx\u001b[0m \u001b[1;32min\u001b[0m \u001b[0mrange\u001b[0m\u001b[1;33m(\u001b[0m\u001b[1;36m1\u001b[0m\u001b[1;33m,\u001b[0m \u001b[1;36m28124\u001b[0m\u001b[1;33m)\u001b[0m\u001b[1;33m:\u001b[0m\u001b[1;33m\u001b[0m\u001b[0m\n\u001b[1;32m---> 16\u001b[1;33m     \u001b[1;32mif\u001b[0m \u001b[0mOverSub\u001b[0m\u001b[1;33m(\u001b[0m\u001b[0mx\u001b[0m\u001b[1;33m)\u001b[0m\u001b[1;33m:\u001b[0m\u001b[1;33m\u001b[0m\u001b[0m\n\u001b[0m\u001b[0;32m     17\u001b[0m         \u001b[0marray\u001b[0m \u001b[1;33m=\u001b[0m \u001b[0marray\u001b[0m \u001b[1;33m+\u001b[0m \u001b[1;33m[\u001b[0m\u001b[0mx\u001b[0m\u001b[1;33m]\u001b[0m\u001b[1;33m\u001b[0m\u001b[0m\n\u001b[0;32m     18\u001b[0m \u001b[1;33m\u001b[0m\u001b[0m\n",
      "\u001b[1;32m<ipython-input-17-58a8180cc2a9>\u001b[0m in \u001b[0;36mOverSub\u001b[1;34m(x)\u001b[0m\n\u001b[0;32m      4\u001b[0m     \u001b[0msum\u001b[0m \u001b[1;33m=\u001b[0m \u001b[1;36m0\u001b[0m\u001b[1;33m\u001b[0m\u001b[0m\n\u001b[0;32m      5\u001b[0m     \u001b[1;32mfor\u001b[0m \u001b[0ma\u001b[0m \u001b[1;32min\u001b[0m \u001b[0mrange\u001b[0m\u001b[1;33m(\u001b[0m\u001b[1;36m1\u001b[0m\u001b[1;33m,\u001b[0m \u001b[1;33m(\u001b[0m\u001b[0mx\u001b[0m\u001b[1;33m/\u001b[0m\u001b[1;36m2\u001b[0m\u001b[1;33m)\u001b[0m\u001b[1;33m+\u001b[0m\u001b[1;36m1\u001b[0m\u001b[1;33m)\u001b[0m\u001b[1;33m:\u001b[0m\u001b[1;33m\u001b[0m\u001b[0m\n\u001b[1;32m----> 6\u001b[1;33m         \u001b[1;32mif\u001b[0m \u001b[0mx\u001b[0m \u001b[1;33m%\u001b[0m \u001b[0ma\u001b[0m \u001b[1;33m==\u001b[0m \u001b[1;36m0\u001b[0m\u001b[1;33m:\u001b[0m\u001b[1;33m\u001b[0m\u001b[0m\n\u001b[0m\u001b[0;32m      7\u001b[0m             \u001b[0msum\u001b[0m \u001b[1;33m+=\u001b[0m \u001b[0ma\u001b[0m\u001b[1;33m\u001b[0m\u001b[0m\n\u001b[0;32m      8\u001b[0m     \u001b[1;32mif\u001b[0m \u001b[0msum\u001b[0m \u001b[1;33m>\u001b[0m \u001b[0mx\u001b[0m\u001b[1;33m:\u001b[0m\u001b[1;33m\u001b[0m\u001b[0m\n",
      "\u001b[1;31mKeyboardInterrupt\u001b[0m: "
     ]
    }
   ],
   "source": [
    "#프로젝트 오일러 23번 문제입니다.\n",
    "def OverSub(x):\n",
    "    returning = False\n",
    "    sum = 0\n",
    "    for a in range(1, (x/2)+1):\n",
    "        if x % a == 0:\n",
    "            sum += a\n",
    "    if sum > x:\n",
    "        returning = True\n",
    "    return returning\n",
    "\n",
    "array = []\n",
    "array2 = []\n",
    "wholenum = 0\n",
    "for x in range(1, 28124):\n",
    "    if OverSub(x):\n",
    "        array = array + [x]\n",
    "\n",
    "for y in range(0, len(array)):\n",
    "    for z in range(0, len(array)):\n",
    "        if array[y] + array[z] > 28123:\n",
    "            break\n",
    "        else:\n",
    "            array2 = array2 + [array[y]+array[z]]\n",
    "for b in range(1, 28124):\n",
    "    if (b in array2 == False):\n",
    "        wholenum += b\n",
    "print wholenum"
   ]
  },
  {
   "cell_type": "code",
   "execution_count": null,
   "metadata": {
    "collapsed": true
   },
   "outputs": [],
   "source": []
  }
 ],
 "metadata": {
  "kernelspec": {
   "display_name": "Python 2",
   "language": "python",
   "name": "python2"
  },
  "language_info": {
   "codemirror_mode": {
    "name": "ipython",
    "version": 2
   },
   "file_extension": ".py",
   "mimetype": "text/x-python",
   "name": "python",
   "nbconvert_exporter": "python",
   "pygments_lexer": "ipython2",
   "version": "2.7.9"
  }
 },
 "nbformat": 4,
 "nbformat_minor": 0
}

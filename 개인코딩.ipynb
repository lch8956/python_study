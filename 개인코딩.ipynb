{
 "cells": [
  {
   "cell_type": "code",
   "execution_count": 1,
   "metadata": {
    "collapsed": false
   },
   "outputs": [
    {
     "name": "stdout",
     "output_type": "stream",
     "text": [
      "100\n"
     ]
    }
   ],
   "source": [
    "print 100"
   ]
  },
  {
   "cell_type": "code",
   "execution_count": 2,
   "metadata": {
    "collapsed": false
   },
   "outputs": [
    {
     "name": "stdout",
     "output_type": "stream",
     "text": [
      "4.0\n",
      "14.1421356237\n"
     ]
    }
   ],
   "source": [
    "import math\n",
    "\n",
    "print abs(math.ceil(-4.3))\n",
    "\n",
    "x1 = 10\n",
    "x2 = 20\n",
    "y1 = 30\n",
    "y2 = 40\n",
    "\n",
    "print math.sqrt(pow(x2-x1, 2) + pow(y2-y1, 2))"
   ]
  },
  {
   "cell_type": "code",
   "execution_count": 13,
   "metadata": {
    "collapsed": false
   },
   "outputs": [
    {
     "name": "stdout",
     "output_type": "stream",
     "text": [
      "ac\n",
      "dcba\n"
     ]
    }
   ],
   "source": [
    "s = 'abcd'\n",
    "print s[::2]\n",
    "print s[::-1]"
   ]
  },
  {
   "cell_type": "code",
   "execution_count": 16,
   "metadata": {
    "collapsed": false
   },
   "outputs": [
    {
     "name": "stdout",
     "output_type": "stream",
     "text": [
      "[1, 2, 3, 4, 5, 6, 7, 8, 9]\n",
      "9\n"
     ]
    }
   ],
   "source": [
    "s = [1, 2, 3, 4, 5, 6, 7, 8]\n",
    "s = s + [9]\n",
    "print s\n",
    "print s[8]"
   ]
  },
  {
   "cell_type": "code",
   "execution_count": 30,
   "metadata": {
    "collapsed": false
   },
   "outputs": [
    {
     "name": "stdout",
     "output_type": "stream",
     "text": [
      "[1]\n",
      "1\n",
      "(1, 2, 3, 4)\n"
     ]
    }
   ],
   "source": [
    "s = []\n",
    "s = s + [1]\n",
    "print s\n",
    "\n",
    "t = (1, 2, 3, 4)\n",
    "print t[0]\n",
    "print t"
   ]
  },
  {
   "cell_type": "code",
   "execution_count": 11,
   "metadata": {
    "collapsed": false
   },
   "outputs": [
    {
     "name": "stdout",
     "output_type": "stream",
     "text": [
      "29261072 29261072\n",
      "46817720 46817720\n",
      "True\n",
      "\n",
      "46806536 46817672\n",
      "46817768 46817768\n",
      "False\n"
     ]
    }
   ],
   "source": [
    "x = 256\n",
    "y = 256\n",
    "\n",
    "print id(x), id(y)\n",
    "print id(x+1), id(y+1)\n",
    "\n",
    "print x is y\n",
    "print \n",
    "\n",
    "x = 257\n",
    "y = 257\n",
    "\n",
    "print id(x), id(y)\n",
    "print id(x+1), id(y+1)\n",
    "\n",
    "print x is y\n",
    "#257부터 가리키는 객체의 값이 달라지는 듯???"
   ]
  },
  {
   "cell_type": "code",
   "execution_count": 18,
   "metadata": {
    "collapsed": false
   },
   "outputs": [
    {
     "name": "stdout",
     "output_type": "stream",
     "text": [
      "25164150\n"
     ]
    }
   ],
   "source": [
    "#프로젝트 오일러 6번\n",
    "sum1 = 0;\n",
    "sum2 = 0;\n",
    "for x in range(1, 101):\n",
    "    sum1 += x\n",
    "    sum2 += (x*x)\n",
    "    \n",
    "print (sum1*sum1) - sum2"
   ]
  },
  {
   "cell_type": "code",
   "execution_count": 1,
   "metadata": {
    "collapsed": false
   },
   "outputs": [
    {
     "name": "stdout",
     "output_type": "stream",
     "text": [
      "99299\n"
     ]
    }
   ],
   "source": [
    "#프로젝트 오일러 4번\n",
    "def isSame(a):\n",
    "    returning = False\n",
    "    line = str(a)\n",
    "    if len(line) == 5:\n",
    "        if line[0:2] == line[-1:-3:-1]:\n",
    "            returning = True\n",
    "    elif len(line) == 6:        \n",
    "        if line[0:3] == line[-1:-4]:\n",
    "            returning = True\n",
    "    return returning\n",
    "\n",
    "array = []\n",
    "for x in range(100, 1000):\n",
    "    for y in range(100, 1000):\n",
    "        if isSame(x*y):      \n",
    "            array = array + [x*y]\n",
    "        y = y + 1\n",
    "    x = x + 1\n",
    "print array[-1]"
   ]
  },
  {
   "cell_type": "code",
   "execution_count": 3,
   "metadata": {
    "collapsed": false
   },
   "outputs": [
    {
     "name": "stdout",
     "output_type": "stream",
     "text": [
      "648\n"
     ]
    }
   ],
   "source": [
    "#프로젝트 오일러 20번\n",
    "sum = 1\n",
    "SumNum = 0;\n",
    "for x in range(1, 100):\n",
    "    sum = sum * x\n",
    "array = str(sum)\n",
    "for x in range(len(array)):\n",
    "    SumNum = SumNum + int(array[x:x+1])\n",
    "print SumNum"
   ]
  },
  {
   "cell_type": "code",
   "execution_count": 9,
   "metadata": {
    "collapsed": false
   },
   "outputs": [
    {
     "name": "stdout",
     "output_type": "stream",
     "text": [
      "142913828923\n"
     ]
    }
   ],
   "source": [
    "#프로젝트 오일러 10번\n",
    "import math\n",
    "\n",
    "def isPrime(x): \n",
    "    returning = True \n",
    "    for i in range(2,int(math.sqrt(x))+1):\n",
    "        if x%i==0: \n",
    "            returning = False\n",
    "            return returning\n",
    "    return returning\n",
    "\n",
    "sum = 0\n",
    "for x in range(1, 2000001):\n",
    "    if isPrime(x):\n",
    "        sum += x\n",
    "print sum"
   ]
  },
  {
   "cell_type": "code",
   "execution_count": 4,
   "metadata": {
    "collapsed": false
   },
   "outputs": [
    {
     "name": "stdout",
     "output_type": "stream",
     "text": [
      "104729\n"
     ]
    }
   ],
   "source": [
    "#프로젝트 오일러 7번 \n",
    "import math\n",
    "\n",
    "def isPrime(x): \n",
    "    returning = True \n",
    "    for i in range(2,int(math.sqrt(x))+1):\n",
    "        if x%i==0: \n",
    "            returning = False\n",
    "            return returning\n",
    "    return returning\n",
    "\n",
    "array = []\n",
    "x = 1\n",
    "while len(array) != 10001:\n",
    "    if isPrime(x):\n",
    "        array += [x]\n",
    "    x += 1\n",
    "print array[-1]"
   ]
  },
  {
   "cell_type": "code",
   "execution_count": 4,
   "metadata": {
    "collapsed": false
   },
   "outputs": [
    {
     "name": "stdout",
     "output_type": "stream",
     "text": [
      "정답은 :  21\n"
     ]
    }
   ],
   "source": [
    "#프로젝트 오일러 25번 문제입니다.\n",
    "array = [1, 1]\n",
    "i = 1\n",
    "\n",
    "while array[i] < 10000:    \n",
    "    array = array + [array[i-1] + array[i]]\n",
    "    i = i + 1\n",
    "\n",
    "print '정답은 : ', len(array)"
   ]
  },
  {
   "cell_type": "code",
   "execution_count": 28,
   "metadata": {
    "collapsed": false
   },
   "outputs": [
    {
     "name": "stdout",
     "output_type": "stream",
     "text": [
      "1327\n"
     ]
    }
   ],
   "source": [
    "#프로젝트 오일러 16번 문제입니다.\n",
    "sum = 1024 #1024 = 2의 10제곱 계산을 100번 반복하기 위하여 2의 10제곱 사용 -> 2의 1000제곱 = 1024의 100제곱\n",
    "sum2 = 0;\n",
    "for x in range(1,101):\n",
    "    sum *= 1024\n",
    "array = str(sum)\n",
    "for x in range(len(array)):\n",
    "    sum2 = sum2 + int(array[x:x+1])\n",
    "print sum2"
   ]
  },
  {
   "cell_type": "code",
   "execution_count": 24,
   "metadata": {
    "collapsed": false
   },
   "outputs": [
    {
     "name": "stdout",
     "output_type": "stream",
     "text": [
      "가장 오래 걸리는 숫자는 :  837799   걸린 횟수는 :  524\n"
     ]
    }
   ],
   "source": [
    "#프로젝트 오일러 14번 문제입니다.\n",
    "def Calculate(x, i):\n",
    "    while x != 1:\n",
    "        if x % 2 == 0:\n",
    "            x = x / 2\n",
    "            i += 1\n",
    "        elif x % 2 == 1:\n",
    "            x = (3 * x) + 1\n",
    "            i += 1\n",
    "    return i\n",
    "\n",
    "max = 0\n",
    "for x in range(2, 1000001):\n",
    "    i = 0\n",
    "    sum = Calculate(x, i)\n",
    "    if max < sum:\n",
    "        max = sum\n",
    "        order = x\n",
    "    x += 1\n",
    "print '가장 오래 걸리는 숫자는 : ', order, \" \", '걸린 횟수는 : ', max"
   ]
  },
  {
   "cell_type": "code",
   "execution_count": 31,
   "metadata": {
    "collapsed": false
   },
   "outputs": [
    {
     "name": "stdout",
     "output_type": "stream",
     "text": [
      "200 375 425\n",
      "31875000\n"
     ]
    }
   ],
   "source": [
    "#프로젝트 오일러 9번 문제입니다. 프로젝트 실행시키는데 1분 30초나 걸림 \n",
    "output = 0\n",
    "stop = False\n",
    "for a in range(1, 1001):\n",
    "    for b in range(1, 1001):\n",
    "        for c in range(1, 1001):\n",
    "            if a + b + c != 1000:\n",
    "                continue\n",
    "            elif a + b + c == 1000:\n",
    "                if a*a + b*b == c*c:\n",
    "                    print a, b, c\n",
    "                    stop = True\n",
    "                    output = a*b*c\n",
    "                    break\n",
    "                else:\n",
    "                    continue\n",
    "        if stop == True:\n",
    "                break\n",
    "    if stop == True:\n",
    "                break\n",
    "print output"
   ]
  },
  {
   "cell_type": "code",
   "execution_count": null,
   "metadata": {
    "collapsed": true
   },
   "outputs": [],
   "source": []
  }
 ],
 "metadata": {
  "kernelspec": {
   "display_name": "Python 2",
   "language": "python",
   "name": "python2"
  },
  "language_info": {
   "codemirror_mode": {
    "name": "ipython",
    "version": 2
   },
   "file_extension": ".py",
   "mimetype": "text/x-python",
   "name": "python",
   "nbconvert_exporter": "python",
   "pygments_lexer": "ipython2",
   "version": "2.7.9"
  }
 },
 "nbformat": 4,
 "nbformat_minor": 0
}

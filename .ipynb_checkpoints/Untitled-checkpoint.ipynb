{
 "cells": [
  {
   "cell_type": "code",
   "execution_count": 1,
   "metadata": {
    "collapsed": false
   },
   "outputs": [
    {
     "name": "stdout",
     "output_type": "stream",
     "text": [
      "100\n"
     ]
    }
   ],
   "source": [
    "print 100"
   ]
  },
  {
   "cell_type": "code",
   "execution_count": 2,
   "metadata": {
    "collapsed": false
   },
   "outputs": [
    {
     "name": "stdout",
     "output_type": "stream",
     "text": [
      "4.0\n",
      "14.1421356237\n"
     ]
    }
   ],
   "source": [
    "import math\n",
    "\n",
    "print abs(math.ceil(-4.3))\n",
    "\n",
    "x1 = 10\n",
    "x2 = 20\n",
    "y1 = 30\n",
    "y2 = 40\n",
    "\n",
    "print math.sqrt(pow(x2-x1, 2) + pow(y2-y1, 2))"
   ]
  },
  {
   "cell_type": "code",
   "execution_count": 13,
   "metadata": {
    "collapsed": false
   },
   "outputs": [
    {
     "name": "stdout",
     "output_type": "stream",
     "text": [
      "ac\n",
      "dcba\n"
     ]
    }
   ],
   "source": [
    "s = 'abcd'\n",
    "print s[::2]\n",
    "print s[::-1]"
   ]
  },
  {
   "cell_type": "code",
   "execution_count": 16,
   "metadata": {
    "collapsed": false
   },
   "outputs": [
    {
     "name": "stdout",
     "output_type": "stream",
     "text": [
      "[1, 2, 3, 4, 5, 6, 7, 8, 9]\n",
      "9\n"
     ]
    }
   ],
   "source": [
    "s = [1, 2, 3, 4, 5, 6, 7, 8]\n",
    "s = s + [9]\n",
    "print s\n",
    "print s[8]"
   ]
  },
  {
   "cell_type": "code",
   "execution_count": 30,
   "metadata": {
    "collapsed": false
   },
   "outputs": [
    {
     "name": "stdout",
     "output_type": "stream",
     "text": [
      "[1]\n",
      "1\n",
      "(1, 2, 3, 4)\n"
     ]
    }
   ],
   "source": [
    "s = []\n",
    "s = s + [1]\n",
    "print s\n",
    "\n",
    "t = (1, 2, 3, 4)\n",
    "print t[0]\n",
    "print t"
   ]
  },
  {
   "cell_type": "code",
   "execution_count": 11,
   "metadata": {
    "collapsed": false
   },
   "outputs": [
    {
     "name": "stdout",
     "output_type": "stream",
     "text": [
      "29261072 29261072\n",
      "46817720 46817720\n",
      "True\n",
      "\n",
      "46806536 46817672\n",
      "46817768 46817768\n",
      "False\n"
     ]
    }
   ],
   "source": [
    "x = 256\n",
    "y = 256\n",
    "\n",
    "print id(x), id(y)\n",
    "print id(x+1), id(y+1)\n",
    "\n",
    "print x is y\n",
    "print \n",
    "\n",
    "x = 257\n",
    "y = 257\n",
    "\n",
    "print id(x), id(y)\n",
    "print id(x+1), id(y+1)\n",
    "\n",
    "print x is y\n",
    "#257부터 가리키는 객체의 값이 달라지는 듯???"
   ]
  },
  {
   "cell_type": "code",
   "execution_count": null,
   "metadata": {
    "collapsed": true
   },
   "outputs": [],
   "source": []
  }
 ],
 "metadata": {
  "kernelspec": {
   "display_name": "Python 2",
   "language": "python",
   "name": "python2"
  },
  "language_info": {
   "codemirror_mode": {
    "name": "ipython",
    "version": 2
   },
   "file_extension": ".py",
   "mimetype": "text/x-python",
   "name": "python",
   "nbconvert_exporter": "python",
   "pygments_lexer": "ipython2",
   "version": "2.7.9"
  }
 },
 "nbformat": 4,
 "nbformat_minor": 0
}

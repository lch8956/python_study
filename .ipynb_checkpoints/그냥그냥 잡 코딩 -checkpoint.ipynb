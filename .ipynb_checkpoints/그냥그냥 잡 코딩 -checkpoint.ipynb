{
 "cells": [
  {
   "cell_type": "code",
   "execution_count": 2,
   "metadata": {
    "collapsed": false
   },
   "outputs": [
    {
     "name": "stdout",
     "output_type": "stream",
     "text": [
      "10\n"
     ]
    }
   ],
   "source": [
    "asd = 10\n",
    "print asd"
   ]
  },
  {
   "cell_type": "code",
   "execution_count": 1,
   "metadata": {
    "collapsed": false
   },
   "outputs": [
    {
     "name": "stdout",
     "output_type": "stream",
     "text": [
      "{0: 0, 1: 1, 2: 4, 3: 9, 4: 16, 5: 25, 6: 36, 7: 49, 8: 64, 9: 81}\n"
     ]
    }
   ],
   "source": [
    "m = {}\n",
    "\n",
    "for x in range(10):\n",
    "    m[x] = x**2\n",
    "    \n",
    "print m"
   ]
  },
  {
   "cell_type": "code",
   "execution_count": 2,
   "metadata": {
    "collapsed": false
   },
   "outputs": [
    {
     "name": "stdout",
     "output_type": "stream",
     "text": [
      "9\n",
      "-1\n",
      "\n",
      "1\n"
     ]
    }
   ],
   "source": [
    "def add(a, b):\n",
    "    return a + b\n",
    "\n",
    "def sub(a, b):\n",
    "    return a - b\n",
    "\n",
    "action = {0: add, 1: sub}   # 함수 이름을 사전의 값으로 사용\n",
    "print action[0](4, 5)\n",
    "print action[1](4, 5)\n",
    "print\n",
    "action2 = {add: 1, sub: 2}  # 함수 이름을 사전의 키로 사용\n",
    "print action2[add]\n"
   ]
  },
  {
   "cell_type": "code",
   "execution_count": 3,
   "metadata": {
    "collapsed": false
   },
   "outputs": [
    {
     "data": {
      "text/plain": [
       "False"
      ]
     },
     "execution_count": 3,
     "metadata": {},
     "output_type": "execute_result"
    }
   ],
   "source": [
    "a = 1\n",
    "callable(a)"
   ]
  },
  {
   "cell_type": "code",
   "execution_count": 5,
   "metadata": {
    "collapsed": false
   },
   "outputs": [
    {
     "name": "stdout",
     "output_type": "stream",
     "text": [
      "[('one', 1), ('two', 2), ('three', 3), ('four', 4)]\n",
      "{'four': 4, 'three': 3, 'two': 2, 'one': 1}\n"
     ]
    }
   ],
   "source": [
    "keys = ['one', 'two', 'three', 'four'] #숫자가 안 맞으면 알아서 매칭\n",
    "values = (1, 2, 3, 4, 5)\n",
    "print zip(keys, values) # zip(): 두 개의 자료를 순서대로 쌍으로 묶은 튜플들의 리스트 반환\n",
    "print dict(zip(keys, values))\n"
   ]
  },
  {
   "cell_type": "code",
   "execution_count": 9,
   "metadata": {
    "collapsed": false
   },
   "outputs": [
    {
     "name": "stdout",
     "output_type": "stream",
     "text": [
      "[1, 2, 3, 4, 5]\n",
      "[1, 2, 3, 4, 5]\n",
      "[6, 2, 3, 4, 5]\n",
      "[6, 2, 3, 4, 5]\n",
      "6\n",
      "6\n",
      "7\n",
      "6\n"
     ]
    }
   ],
   "source": [
    "a = [1, 2, 3, 4, 5]\n",
    "b = a\n",
    "\n",
    "print a\n",
    "print b\n",
    "\n",
    "a[0] = 6\n",
    "\n",
    "print a\n",
    "print b\n",
    "\n",
    "c = 6\n",
    "d = c\n",
    "\n",
    "print c\n",
    "print d\n",
    "\n",
    "c = 7\n",
    "\n",
    "print c\n",
    "print d"
   ]
  },
  {
   "cell_type": "code",
   "execution_count": 1,
   "metadata": {
    "collapsed": false
   },
   "outputs": [
    {
     "name": "stdout",
     "output_type": "stream",
     "text": [
      "[1, 2, 3]\n",
      "set([1, 2, 3, 4, 5, 6])\n",
      "False\n"
     ]
    }
   ],
   "source": [
    "y = [1, 2, 3]\n",
    "print y\n",
    "\n",
    "a = ([1, 2, 2, 3, 4, 5, 5, 6])\n",
    "\n",
    "print set(a)\n",
    "\n",
    "b = (1, 2, 3)\n",
    "c = [1, 2, 3]\n",
    "\n",
    "print b == c"
   ]
  },
  {
   "cell_type": "code",
   "execution_count": 2,
   "metadata": {
    "collapsed": false
   },
   "outputs": [
    {
     "name": "stdout",
     "output_type": "stream",
     "text": [
      "{0: 0, 1: 1, 2: 4, 3: 9, 4: 16, 5: 25, 6: 36, 7: 49, 8: 64, 9: 81}\n"
     ]
    }
   ],
   "source": [
    "m = {}\n",
    "\n",
    "for x in range(10):\n",
    "    m[x] = x**2\n",
    "    \n",
    "print m"
   ]
  },
  {
   "cell_type": "code",
   "execution_count": 5,
   "metadata": {
    "collapsed": false
   },
   "outputs": [
    {
     "name": "stdout",
     "output_type": "stream",
     "text": [
      "the 929\n",
      "and 680\n",
      "of 625\n",
      "to 608\n",
      "I 523\n",
      "a 453\n",
      "my 444\n",
      "in 382\n",
      "you 361\n",
      "Ham. 358\n",
      "is 299\n",
      "his 284\n",
      "it 266\n",
      "not 259\n",
      "And 259\n",
      "that 225\n",
      "with 224\n",
      "your 217\n",
      "this 203\n",
      "be 187\n",
      "for 162\n",
      "have 160\n",
      "The 152\n",
      "he 149\n",
      "as 144\n",
      "me 144\n",
      "but 139\n",
      "will 130\n",
      "him 121\n",
      "To 119\n",
      "That 118\n",
      "are 118\n",
      "King. 116\n",
      "But 115\n",
      "Hor. 108\n",
      "our 107\n",
      "do 105\n",
      "shall 103\n",
      "we 101\n",
      "what 100\n",
      "on 99\n",
      "so 96\n",
      "by 92\n",
      "What 90\n",
      "no 88\n",
      "A 87\n",
      "Pol. 86\n",
      "thou 83\n",
      "all 83\n",
      "from 83\n",
      "thy 81\n",
      "lord, 81\n",
      "or 81\n",
      "Queen. 78\n",
      "My 75\n",
      "at 75\n",
      "they 72\n",
      "You 72\n",
      "good 71\n",
      "was 70\n",
      "As 70\n",
      "most 70\n",
      "For 69\n",
      "her 68\n",
      "more 68\n",
      "like 67\n",
      "Enter 66\n",
      "Laer. 62\n",
      "would 62\n",
      "lord. 61\n",
      "It 61\n",
      "th' 60\n",
      "if 60\n",
      "O, 59\n",
      "may 59\n",
      "How 58\n",
      "Oph. 58\n",
      "very 57\n",
      "I'll 56\n",
      "know 56\n",
      "hath 55\n",
      "must 55\n",
      "you, 53\n",
      "am 52\n",
      "let 52\n",
      "their 52\n",
      "should 51\n",
      "some 51\n",
      "He 51\n",
      "If 51\n",
      "an 50\n",
      "This 50\n",
      "O 50\n",
      "such 48\n",
      "us 46\n",
      "did 46\n",
      "Ros. 45\n",
      "much 44\n",
      "come 44\n",
      "Of 43\n"
     ]
    }
   ],
   "source": [
    "f = open(\"Hamlet.txt\", 'r')\n",
    "from collections import Counter\n",
    "wordDict = Counter()\n",
    "\n",
    "sentences = f.readlines()\n",
    "\n",
    "for sentence in sentences: #한 문장씩\n",
    "    for word in sentence.split(): #한 문장에 들어있는 한 단어씩\n",
    "        wordDict[word] += 1 #Counter에 count를 1씩 증가시킨다.\n",
    "        \n",
    "for word, freq in wordDict.most_common(100):\n",
    "    print word, freq"
   ]
  },
  {
   "cell_type": "code",
   "execution_count": 3,
   "metadata": {
    "collapsed": false
   },
   "outputs": [
    {
     "name": "stdout",
     "output_type": "stream",
     "text": [
      "Counter()\n"
     ]
    }
   ],
   "source": [
    "print Counter()"
   ]
  },
  {
   "cell_type": "code",
   "execution_count": 1,
   "metadata": {
    "collapsed": false
   },
   "outputs": [
    {
     "ename": "UnboundLocalError",
     "evalue": "local variable 'g' referenced before assignment",
     "output_type": "error",
     "traceback": [
      "\u001b[1;31m---------------------------------------------------------------------------\u001b[0m",
      "\u001b[1;31mUnboundLocalError\u001b[0m                         Traceback (most recent call last)",
      "\u001b[1;32m<ipython-input-1-4f5a33f08143>\u001b[0m in \u001b[0;36m<module>\u001b[1;34m()\u001b[0m\n\u001b[0;32m      6\u001b[0m     \u001b[1;32mreturn\u001b[0m \u001b[0ma\u001b[0m\u001b[1;33m\u001b[0m\u001b[0m\n\u001b[0;32m      7\u001b[0m \u001b[1;33m\u001b[0m\u001b[0m\n\u001b[1;32m----> 8\u001b[1;33m \u001b[1;32mprint\u001b[0m \u001b[0mf\u001b[0m\u001b[1;33m(\u001b[0m\u001b[1;33m)\u001b[0m\u001b[1;33m\u001b[0m\u001b[0m\n\u001b[0m",
      "\u001b[1;32m<ipython-input-1-4f5a33f08143>\u001b[0m in \u001b[0;36mf\u001b[1;34m()\u001b[0m\n\u001b[0;32m      2\u001b[0m \u001b[1;33m\u001b[0m\u001b[0m\n\u001b[0;32m      3\u001b[0m \u001b[1;32mdef\u001b[0m \u001b[0mf\u001b[0m\u001b[1;33m(\u001b[0m\u001b[1;33m)\u001b[0m\u001b[1;33m:\u001b[0m\u001b[1;33m\u001b[0m\u001b[0m\n\u001b[1;32m----> 4\u001b[1;33m     \u001b[0ma\u001b[0m \u001b[1;33m=\u001b[0m \u001b[0mg\u001b[0m      \u001b[1;31m# r-value로 사용되는 g는 전역 변수\u001b[0m\u001b[1;33m\u001b[0m\u001b[0m\n\u001b[0m\u001b[0;32m      5\u001b[0m     \u001b[0mg\u001b[0m \u001b[1;33m=\u001b[0m \u001b[1;36m20\u001b[0m     \u001b[1;31m# l-value로 정의되는 g는 지역 변수\u001b[0m\u001b[1;33m\u001b[0m\u001b[0m\n\u001b[0;32m      6\u001b[0m     \u001b[1;32mreturn\u001b[0m \u001b[0ma\u001b[0m\u001b[1;33m\u001b[0m\u001b[0m\n",
      "\u001b[1;31mUnboundLocalError\u001b[0m: local variable 'g' referenced before assignment"
     ]
    }
   ],
   "source": [
    "g = 10\n",
    "\n",
    "def f():\n",
    "    a = g      # r-value로 사용되는 g는 전역 변수\n",
    "    g = 20     # l-value로 정의되는 g는 지역 변수\n",
    "    return a\n",
    "\n",
    "print f()"
   ]
  },
  {
   "cell_type": "code",
   "execution_count": 2,
   "metadata": {
    "collapsed": false
   },
   "outputs": [
    {
     "name": "stdout",
     "output_type": "stream",
     "text": [
      "10\n",
      "20\n"
     ]
    }
   ],
   "source": [
    "g = 10\n",
    "\n",
    "def f():\n",
    "    global g    # g는 전역 변수로 선언됨\n",
    "    a = g       # a는 지역 변수, g는 전역 변수\n",
    "    g = 20      # g는 전역 변수\n",
    "    return a\n",
    "\n",
    "print f()\n",
    "print g\n"
   ]
  },
  {
   "cell_type": "code",
   "execution_count": 3,
   "metadata": {
    "collapsed": false
   },
   "outputs": [
    {
     "name": "stdout",
     "output_type": "stream",
     "text": [
      "['_dh', '__', '__builtin__', 'quit', '_i3', '_i2', '_i1', 'exit', 'get_ipython', '_i', '__doc__', '__builtins__', '_ih', '__name__', '___', '_', 'a', '_sh', 'g', 'f', '_iii', '_ii', 'In', '_oh', 'Out']\n"
     ]
    }
   ],
   "source": [
    "a = 10\n",
    "print locals().keys()"
   ]
  },
  {
   "cell_type": "code",
   "execution_count": 4,
   "metadata": {
    "collapsed": false
   },
   "outputs": [
    {
     "name": "stdout",
     "output_type": "stream",
     "text": [
      "['Formatter', 'Template', '_TemplateMetaclass', '__builtins__', '__doc__', '__file__', '__name__', '__package__', '_float', '_idmap', '_idmapL', '_int', '_long', '_multimap', '_re', 'ascii_letters', 'ascii_lowercase', 'ascii_uppercase', 'atof', 'atof_error', 'atoi', 'atoi_error', 'atol', 'atol_error', 'capitalize', 'capwords', 'center', 'count', 'digits', 'expandtabs', 'find', 'hexdigits', 'index', 'index_error', 'join', 'joinfields', 'letters', 'ljust', 'lower', 'lowercase', 'lstrip', 'maketrans', 'octdigits', 'printable', 'punctuation', 'replace', 'rfind', 'rindex', 'rjust', 'rsplit', 'rstrip', 'split', 'splitfields', 'strip', 'swapcase', 'translate', 'upper', 'uppercase', 'whitespace', 'zfill']\n",
      "['ascii_lowercase', 'upper', '_re', 'letters', 'atol_error', 'lstrip', 'uppercase', 'ascii_letters', 'find', 'atof', 'replace', 'capwords', 'index_error', 'expandtabs', 'Template', 'strip', 'ascii_uppercase', 'octdigits', 'index', 'ljust', 'whitespace', '_int', 'rindex', '_float', 'punctuation', '__package__', 'printable', 'splitfields', 'split', 'rstrip', 'translate', '__doc__', '_multimap', 'count', 'joinfields', 'rjust', '__builtins__', '__file__', 'lower', 'swapcase', 'atof_error', 'atoi', 'hexdigits', 'Formatter', 'atol', '__name__', 'rsplit', '_idmapL', 'digits', 'lowercase', 'join', 'center', '_long', 'rfind', 'atoi_error', 'maketrans', 'capitalize', '_TemplateMetaclass', 'zfill', '_idmap']\n"
     ]
    }
   ],
   "source": [
    "import string\n",
    "print dir(string)\n",
    "print string.__dict__.keys()\n"
   ]
  },
  {
   "cell_type": "code",
   "execution_count": 5,
   "metadata": {
    "collapsed": false
   },
   "outputs": [
    {
     "name": "stdout",
     "output_type": "stream",
     "text": [
      "name = ascii_lowercase     , type = <type 'str'>\n",
      "name = upper               , type = <type 'function'>\n",
      "name = _re                 , type = <type 'module'>\n",
      "name = letters             , type = <type 'str'>\n",
      "name = atol_error          , type = <type 'type'>\n",
      "name = lstrip              , type = <type 'function'>\n",
      "name = uppercase           , type = <type 'str'>\n",
      "name = ascii_letters       , type = <type 'str'>\n",
      "name = find                , type = <type 'function'>\n",
      "name = atof                , type = <type 'function'>\n",
      "name = replace             , type = <type 'function'>\n",
      "name = capwords            , type = <type 'function'>\n",
      "name = index_error         , type = <type 'type'>\n",
      "name = expandtabs          , type = <type 'function'>\n",
      "name = Template            , type = <class 'string._TemplateMetaclass'>\n",
      "name = strip               , type = <type 'function'>\n",
      "name = ascii_uppercase     , type = <type 'str'>\n",
      "name = octdigits           , type = <type 'str'>\n",
      "name = index               , type = <type 'function'>\n",
      "name = ljust               , type = <type 'function'>\n",
      "name = whitespace          , type = <type 'str'>\n",
      "name = _int                , type = <type 'type'>\n",
      "name = rindex              , type = <type 'function'>\n",
      "name = _float              , type = <type 'type'>\n",
      "name = punctuation         , type = <type 'str'>\n",
      "name = __package__         , type = <type 'NoneType'>\n",
      "name = printable           , type = <type 'str'>\n",
      "name = splitfields         , type = <type 'function'>\n",
      "name = split               , type = <type 'function'>\n",
      "name = rstrip              , type = <type 'function'>\n",
      "name = translate           , type = <type 'function'>\n",
      "name = __doc__             , type = <type 'str'>\n",
      "name = _multimap           , type = <type 'classobj'>\n",
      "name = count               , type = <type 'function'>\n",
      "name = joinfields          , type = <type 'function'>\n",
      "name = rjust               , type = <type 'function'>\n",
      "name = __builtins__        , type = <type 'dict'>\n",
      "name = __file__            , type = <type 'str'>\n",
      "name = lower               , type = <type 'function'>\n",
      "name = swapcase            , type = <type 'function'>\n",
      "name = atof_error          , type = <type 'type'>\n",
      "name = atoi                , type = <type 'function'>\n",
      "name = hexdigits           , type = <type 'str'>\n",
      "name = Formatter           , type = <type 'type'>\n",
      "name = atol                , type = <type 'function'>\n",
      "name = __name__            , type = <type 'str'>\n",
      "name = rsplit              , type = <type 'function'>\n",
      "name = _idmapL             , type = <type 'NoneType'>\n",
      "name = digits              , type = <type 'str'>\n",
      "name = lowercase           , type = <type 'str'>\n",
      "name = join                , type = <type 'function'>\n",
      "name = center              , type = <type 'function'>\n",
      "name = _long               , type = <type 'type'>\n",
      "name = rfind               , type = <type 'function'>\n",
      "name = atoi_error          , type = <type 'type'>\n",
      "name = maketrans           , type = <type 'builtin_function_or_method'>\n",
      "name = capitalize          , type = <type 'function'>\n",
      "name = _TemplateMetaclass  , type = <type 'type'>\n",
      "name = zfill               , type = <type 'function'>\n",
      "name = _idmap              , type = <type 'str'>\n"
     ]
    }
   ],
   "source": [
    "for name, val in string.__dict__.items():\n",
    "    print 'name = %-20s, type = %s' % (name, type(val))"
   ]
  },
  {
   "cell_type": "code",
   "execution_count": 6,
   "metadata": {
    "collapsed": false
   },
   "outputs": [
    {
     "data": {
      "text/plain": [
       "set"
      ]
     },
     "execution_count": 6,
     "metadata": {},
     "output_type": "execute_result"
    }
   ],
   "source": [
    "set"
   ]
  },
  {
   "cell_type": "code",
   "execution_count": 11,
   "metadata": {
    "collapsed": false
   },
   "outputs": [
    {
     "name": "stdout",
     "output_type": "stream",
     "text": [
      "2\n"
     ]
    }
   ],
   "source": [
    "class C:\n",
    "    a = 2\n",
    "    pass\n",
    "\n",
    "c = C()\n",
    "c.a = 3\n",
    "c.b = 2\n",
    "print c.b"
   ]
  },
  {
   "cell_type": "code",
   "execution_count": null,
   "metadata": {
    "collapsed": true
   },
   "outputs": [],
   "source": []
  }
 ],
 "metadata": {
  "kernelspec": {
   "display_name": "Python 2",
   "language": "python",
   "name": "python2"
  },
  "language_info": {
   "codemirror_mode": {
    "name": "ipython",
    "version": 2
   },
   "file_extension": ".py",
   "mimetype": "text/x-python",
   "name": "python",
   "nbconvert_exporter": "python",
   "pygments_lexer": "ipython2",
   "version": "2.7.9"
  }
 },
 "nbformat": 4,
 "nbformat_minor": 0
}

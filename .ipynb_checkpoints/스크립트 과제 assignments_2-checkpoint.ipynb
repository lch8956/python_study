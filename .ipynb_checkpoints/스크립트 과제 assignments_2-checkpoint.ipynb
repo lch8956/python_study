{
 "cells": [
  {
   "cell_type": "markdown",
   "metadata": {},
   "source": [
    "1번 문제입니다.\n",
    "\n",
    "•다음 6 개의 Expression에 대해 Evaluation 결과 값을 출력하고, 해당 결과가 나온 이유에 대해 설명하시오\n",
    "\n",
    "◾1 and 2 and 3 and 4\n",
    "\n",
    "◾1 or 2 or 3 or 4\n",
    "\n",
    "◾1 and 2 or 3 and 4\n",
    "\n",
    "◾(1 and 2) or (3 and 4)\n",
    "\n",
    "◾1 or 2 and 3 or 4\n",
    "\n",
    "◾(1 or 2) and (3 or 4)\n",
    "\n"
   ]
  },
  {
   "cell_type": "code",
   "execution_count": 6,
   "metadata": {
    "collapsed": false
   },
   "outputs": [
    {
     "name": "stdout",
     "output_type": "stream",
     "text": [
      "4 1 2 2 1 3\n"
     ]
    }
   ],
   "source": [
    "print 1 and 2 and 3 and 4,\n",
    "print 1 or 2 or 3 or 4,\n",
    "print 1 and 2 or 3 and 4,\n",
    "print (1 and 2) or (3 and 4),\n",
    "print 1 or 2 and 3 or 4,\n",
    "print (1 or 2) and (3 or 4)"
   ]
  },
  {
   "cell_type": "markdown",
   "metadata": {},
   "source": [
    "각 이유는 아래와 같습니다.\n",
    "\n",
    "중요~~ ! = 0은 False, 0이 아니면 True, 그리고 or 연산은 둘 중 하나만 참이여도 True 반환, and는 둘 다 참이여만 True를 반환해줍니다.\n",
    "\n",
    "(or 연산은 왼쪽부터 검사하는데 왼쪽이 참이면 오른쪽은 검사하지 않고 넘어갑니다. 그리고 and 연산은 왼쪽부터 오른쪽으로 검사하는데,\n",
    "\n",
    "둘 다 참이여야 함으로 나중에 검사하는 오른쪽을 반환해줍니다. )\n",
    "\n",
    "첫번째 : 1 and 2 and 3 and 4에서는 1과 2 and 3 and 4를 비교하고 2는 다시 3 and 4를 비교하는 식으로 진행합니다. \n",
    "\n",
    "그러면 3과 4를 연산하면 4가 나오고 2와 4를 다시 하면 역시 4가 나오고, 맨 처음의 1과 4를 and 연산하면 1은 통과하고 4도 통과하니 우측에 \n",
    "\n",
    "있는 4를 반환해줍니다. and 연산은 둘다 참일 때만 값을 True가 되므로 가장 나중에 오는 4가 나오게 됩니다.\n",
    "\n",
    "두번째 : 1 or 2 or 3 or 4에서는 둘중 하나만 참인 or 연산자를 사용하는데, 맨 앞의 1이 참이므로 뒤의 비교 대상자는 고려할 필요가 없으므로\n",
    "\n",
    "1을 반환해줍니다.\n",
    "\n",
    "세번째 : 1 and 2 or 3 and 4는 1과 2 or 3 and 4를 and 연산으로 계산하고, 2는 3 and 4를 or 연산으로 계산합니다. \n",
    "\n",
    "그러면 3, 4는 4가 나오게 되고, 2와 4는 2가 이미 참이므로 (or 연산이기 때문에), 4는 고려하지 않고 2를 반환\n",
    "\n",
    "그리고 마지막 으로 1과 2를 1 and 2 연산을 하는데 1도 참이면서 2도 참이기 때문에 나중에 검사하는 우측의 2를 반환해줍니다.\n",
    "\n",
    "네번째 : (1 and 2) or (3 and 4)는 1과 2를 and 연산을 먼저하고, 3과 4 또한 and 연산으로 계산 한 다음, \n",
    "\n",
    "거기서 나온 결과를 or 연산을 해줍니다. 양 쪽의 and 연산을 해주면 \n",
    "\n",
    "-> 2 or 4가 나오고 2가 이미 참이므로 4는 고려하지 않고 2를 반환해줍니다.\n",
    "\n",
    "다섯번째 : 1 or 2 and 3 or 4는 1과 나머지 부분을 or 연산을 해준다고 보면 되는데, 오른쪽의 2 and 3 or 4 부분의 결과에 상관없이\n",
    "\n",
    "왼쪽의 1이 이미 참이므로 or 연산은 나머지 오른쪽을 검사하지 않고 왼쪽의 1을 반환해줍니다.\n",
    "\n",
    "여섯번째 : (1 or 2) and (3 or 4)는 양쪽의 or 연산을 해주고, 중간의 and 연산을 해주는 작업입니다. \n",
    "\n",
    "양쪽의 or 연산을 해주고 나면 1 and 3이 나오는데 and 연산의 특징대로 양쪽 다 검사하고 나중에 검사하는 3을 반환해줍니다.\n",
    "\n",
    "\n",
    "이러한 이유들로 6개의 연산자들을 이용한 식들은 그 값이 차례대로 4, 1, 2, 2, 1, 3이 나오게 됩니다."
   ]
  },
  {
   "cell_type": "markdown",
   "metadata": {},
   "source": [
    "-------------------------------------------------------------------------------------------------------------------\n",
    "\n",
    "2번 문제입니다.\n",
    "\n",
    "•키보드로 정수값을 입력 받고 그 값이 양수인지 음수인지를 비트 연산자를 이용하여 판단하는 프로그램을 작성하시오.\n",
    "\n",
    "◾[참고] 가장 왼쪽에 있는 비트가 0이면 양수이며, 1이면 음수이다.\n",
    "\n",
    "◾[참고] 수업보충자료 (https://github.com/bluebibi/python-e-learning/blob/master/supplement.ipynb) 를 참고하시오.\n"
   ]
  },
  {
   "cell_type": "code",
   "execution_count": 7,
   "metadata": {
    "collapsed": false
   },
   "outputs": [
    {
     "name": "stdout",
     "output_type": "stream",
     "text": [
      "-98\n",
      "음수입니다.\n"
     ]
    }
   ],
   "source": [
    "num = input()\n",
    "\n",
    "num >> num.bit_length()\n",
    "\n",
    "if num >> num.bit_length() == 0:\n",
    "    print '양수입니다.'\n",
    "else:\n",
    "    print '음수입니다.'"
   ]
  },
  {
   "cell_type": "markdown",
   "metadata": {},
   "source": [
    "우선 num 변수를 직접 입력받아서 그 숫자를 2진법으로 나타낸 비트의 길이만큼 이동시킵니다.\n",
    "\n",
    "그리고 그 값이 0인 경우(num >> num.bit_length() == 0) 양수, 0이 아닌 경우는 음수임을 알 수 있습니다.\n",
    "\n",
    "*2진수에서 비트 길이 밖에서 있는 숫자가 1이면 음수이다."
   ]
  },
  {
   "cell_type": "markdown",
   "metadata": {},
   "source": [
    "------------------------------------------------------------------------------------------------------------------\n",
    "\n",
    "3번 문제입니다.\n",
    "\n",
    "•경로에 해당하는 문자열 1개를 입력 받아 그 안에 디렉토리 경로명과 파일명을 분리하여 리스트로 반환하는 함수 div_path(s)를 작성하시오.\n",
    "\n",
    "◾인자로 전달하는 문자열은 경로만 들어간다고 가정한다.\n",
    "\n",
    "◾각 디렉토리와 파일을 구분하는 문자는 '/'로 가정한다.\n",
    "\n",
    "◾반환하는 리스트의 첫번째 원소는 디렉토리이고 두번째 원소는 파일명이다.\n",
    "\n",
    "◾다음과 같은 실행 및 출력 결과가 도출되어야 한다.◦div_path('/usr/local/bin/python')◦['/usr/local/bin', 'python']\n",
    "\n",
    "◦div_path('/home/chulsoo/test.txt')◦['/home/chulsoo', 'test.txt']\n",
    "\n",
    "◾[참고] 리스트(l) 내에 새로운 정수값 (예를 들어 10)을 넣는 방법은 l.append(10) 이다. \n"
   ]
  },
  {
   "cell_type": "code",
   "execution_count": 22,
   "metadata": {
    "collapsed": false
   },
   "outputs": [
    {
     "name": "stdout",
     "output_type": "stream",
     "text": [
      "['/usr/local/bin/', 'python.pybn']\n"
     ]
    }
   ],
   "source": [
    "def div_path(s):\n",
    "    array = []\n",
    "    order = len(s)\n",
    "    str1 = ''\n",
    "    str2 = ''\n",
    "    while s[order:order-1:-1] != '/':\n",
    "        str1 += s[order:order-1:-1]\n",
    "        str2 = s[0:order]\n",
    "        order -= 1\n",
    "        \n",
    "    str1 = str1[::-1]\n",
    "    array.append(str2)\n",
    "    array.append(str1)\n",
    "    \n",
    "    return array\n",
    "\n",
    "print (div_path('/usr/local/bin/python.pybn'))"
   ]
  },
  {
   "cell_type": "markdown",
   "metadata": {},
   "source": [
    "먼저 함수를 만들고 나서 함수 내부를 살펴봅니다. 함수의 매개변수로 경로를 대입하고, \n",
    "\n",
    "대입받은 경로 문자열을 함수 내부에서 디렉토리와 파일 이름으로 나눕니다. \n",
    "\n",
    "str1, str2 변수를 선언 -> str1은 파일 문자열, str2는 디렉토리 문자열 변수입니다.\n",
    "\n",
    "str1은 맨 뒤서부터 '/'가 나오기 전까지 while문을 반복하여 진행합니다. 그러면서 맨 뒤에 있는 문자부터 하나씩 str1변수에 대입합니다.\n",
    "\n",
    "그와 동시에 str2도 str1에 들어간 문자들만큼 기존에 있던 문자열 s에서 제외하고 남은 문자들을 대입해줍니다.\n",
    "\n",
    "위의 작업을 while문을 진행시켜서 얻으면 str1은 파일명을 역순으로 얻을 것이고, str2는 디렉토리명을 정상적으로 얻을 것입니다.\n",
    "\n",
    "str1은 재역순 작업을 취하고, 그 다음 array 리스트에 str2, str1 순서대로 추가하고 리스트를 반환합니다.\n",
    "\n",
    "그리고 아래의 출력문에서 반환된 값을 출력해줍니다. "
   ]
  },
  {
   "cell_type": "markdown",
   "metadata": {},
   "source": [
    "--------------------------------------------------------------------------------------------------------------------\n",
    "\n",
    "4번 문제입니다.\n",
    "\n",
    "•두 개의 리스트를 인자로 받아서 그 두 개의 리스트에 대한 '합집합'을 반환하는 함수 list_union(lista, listb)를 작성하시오.\n",
    "\n",
    "◾인자로 전달하는 리스트 2 개에는 정수값만 들어간다고 가정하자.\n",
    "\n",
    "◾함수 내에서 새로운 리스트를 만들어 그 리스트 내에 인자로 받은 두 리스트의 모든 원소를 넣어 반환한다.\n",
    "\n",
    "◾반환하는 리스트에는 절대로 중복된 원소가 들어 있으면 안된다 (집합의 조건).\n",
    "\n",
    "◾반환하는 리스트는 정렬이 되어 있어야 한다.\n",
    "\n",
    "◾다음과 같은 실행 및 출력 결과가 도출되어야 한다.◦list_union([1, 2, 3], [1, 2, 4])◦[1, 2, 3, 4]\n",
    "\n",
    "◦list_union([-10, -5, 0, -1], [100, 9, 0, 9])◦[-10, -5, -1, 0, 9, 100]\n",
    "\n",
    "◦list_union([0, 1, 2], [0, 1, 2])◦[0, 1, 2]\n",
    "\n",
    "\n",
    "◾[참고] 리스트(l) 내에 새로운 정수값 (예를 들어 10)을 넣는 방법은 l.append(10) 이다.\n",
    "\n",
    "◾[참고] 임의의 정수값 (x)이 리스트 (l) 내에 존재하는지 판단하는 방법은 x in l 이다.\n"
   ]
  },
  {
   "cell_type": "code",
   "execution_count": 42,
   "metadata": {
    "collapsed": false
   },
   "outputs": [
    {
     "name": "stdout",
     "output_type": "stream",
     "text": [
      "[1, 2, 3, 4, 5, 9]\n"
     ]
    }
   ],
   "source": [
    "list1 = [1, 2, 3, 4]\n",
    "list2 = [5, 2, 4, 9]\n",
    "\n",
    "for x in range(len(list2)):\n",
    "    if (list2[x] in list1) == False:\n",
    "        list1.append(list2[x])\n",
    "print list1"
   ]
  },
  {
   "cell_type": "markdown",
   "metadata": {},
   "source": [
    "우선 2개의 리스트를 선언하면서 리스트 안에 정수 값을 넣어줍니다.\n",
    "\n",
    "그리고 리스트 하나의 크기만큼 반복문을 돌려서 리스트 내부의 값이 다른 리스트에 없는지 따져서 \n",
    "\n",
    "없는 경우 그 값을 해당 리스트에 넣어줍니다. \n",
    "\n",
    "그리고 값을 다 넣은 리스트를 출력합니다.\n",
    "\n",
    "--------------------------------------------------------------------------------------------------------------------"
   ]
  },
  {
   "cell_type": "markdown",
   "metadata": {},
   "source": [
    "5번 문제입니다.\n",
    "\n",
    "•[프로젝트 오일러 문제 4]\n",
    "\n",
    "앞에서부터 읽을 때나 뒤에서부터 읽을 때나 모양이 같은 수를 대칭수(palindrome)라고 부릅니다.\n",
    "\n",
    "두 자리 수를 곱해 만들 수 있는 대칭수 중 가장 큰 수는 9009 (= 91 × 99) 입니다.\n",
    "\n",
    "세 자리 수를 곱해 만들 수 있는 가장 큰 대칭수는 얼마입니까?\n"
   ]
  },
  {
   "cell_type": "code",
   "execution_count": 7,
   "metadata": {
    "collapsed": false
   },
   "outputs": [
    {
     "name": "stdout",
     "output_type": "stream",
     "text": [
      "정답은 :  906609\n"
     ]
    }
   ],
   "source": [
    "def isSame(a):\n",
    "    returning = False\n",
    "    line = str(a)\n",
    "    if len(line) == 5:\n",
    "        if line[0:2] == line[-1:-3:-1]:\n",
    "            returning = True\n",
    "    elif len(line) == 6:        \n",
    "        if line[0:3] == line[-1:-4:-1]:\n",
    "            returning = True\n",
    "    return returning\n",
    "\n",
    "array = []\n",
    "for x in range(100, 1000):\n",
    "    for y in range(100, 1000):\n",
    "        if isSame(x*y):      \n",
    "            array = array + [x*y]\n",
    "print '정답은 : ', max(array)"
   ]
  },
  {
   "cell_type": "markdown",
   "metadata": {},
   "source": [
    "우선 텅 빈 리스트를 하나 선언 후, 이중 반복문으로 100부터 999까지 반복하여 돌려준다.\n",
    "\n",
    "그리고 각 반복문의 값, 즉 x, y값들을 곱한 값들을 isSame()이란 함수에 넣고 검사한다.\n",
    "\n",
    "isSame() 함수는 매개변수로 들어온 숫자를 문자열로 바꾸고 그 숫자가 좌우대칭하여 서로 똑같이 대칭이 이루어지는지 검사한다.\n",
    "\n",
    "(이때 5자리 숫자, 6자리 숫자에 따라 검사범위가 달라진다.)\n",
    "\n",
    "그리고 대칭인 경우엔 True를 반환하고, 그리하여 조건문을 만족하면 x, y를 곱한 값을 리스트에 추가한다.\n",
    "\n",
    "그리고 max() 함수를 사용하여 리스트에 있는 값들 중 가장 큰 값을 출력해준다. \n",
    "\n",
    "--------------------------------------------------------------------------------------------------------------------"
   ]
  },
  {
   "cell_type": "markdown",
   "metadata": {},
   "source": [
    "6번 문제입니다.\n",
    "\n",
    "•[프로젝트 오일러 문제 5]\n",
    "\n",
    "1 ~ 10 사이의 어떤 수로도 나누어 떨어지는 가장 작은 수는 2520입니다.\n",
    "\n",
    "그러면 1 ~ 20 사이의 어떤 수로도 나누어 떨어지는 가장 작은 수는 얼마입니까?\n"
   ]
  },
  {
   "cell_type": "code",
   "execution_count": 8,
   "metadata": {
    "collapsed": false
   },
   "outputs": [
    {
     "name": "stdout",
     "output_type": "stream",
     "text": [
      "정답은 :  232792560\n"
     ]
    }
   ],
   "source": [
    "import math\n",
    "\n",
    "def isPrime(x): \n",
    "    returning = True \n",
    "    for i in range(2,int(math.sqrt(x))+1):\n",
    "        if x%i==0: \n",
    "            returning = False\n",
    "            return returning\n",
    "    return returning\n",
    "\n",
    "def SubNum(value, x):\n",
    "    divide = 0\n",
    "    for a in range(2, (x/2)+1):\n",
    "        if (value % a == 0) and (x % a == 0):\n",
    "            divide = a\n",
    "    return x / divide\n",
    "\n",
    "value = 1\n",
    "for x in range(2, 21):\n",
    "    if isPrime(x):\n",
    "        value *= x\n",
    "    elif (value % x) != 0:\n",
    "        value *= SubNum(value, x)\n",
    "    elif value % x == 0:\n",
    "        continue\n",
    "print '정답은 : ', value"
   ]
  },
  {
   "cell_type": "markdown",
   "metadata": {},
   "source": [
    "우선 value 변수를 하나 만들고 그 값에 1을 넣어주고 시작한다. \n",
    "\n",
    "그 다음 반복문을 2부터 20까지 = (2:21) 반복시켜준다. \n",
    "\n",
    "--이때 반복시키면서 x가 소수인지 아닌지 검사하고 소수인 경우엔 value에 차례로 반복문의 변수를 곱해준다. (x를 value에 곱해준다.) \n",
    "\n",
    "그리고 소수인지 판단하는 isPrime() 함수를 이용한다.\n",
    "\n",
    "--소수가 아니면 value가 x로 나누어 떨어지는지 검사하고 그렇지 않으면 SubNum()함수를 사용하여 x와 value변수 사이의 \n",
    "\n",
    "최대 공약수를 구하여 x를 최대공약수로 나누고 나온 값을 value에 곱해준다.\n",
    "\n",
    "--마지막으로 value를 x로 나눌때 나누어 떨어지는 경우에는 이미 배수가 된 상태이므로 그냥 넘어간다. (continue 사용)\n",
    "\n",
    "그리고 value를 출력해준다. \n",
    "\n",
    "-----------------------------------------------------------------------------------------------------------------"
   ]
  },
  {
   "cell_type": "markdown",
   "metadata": {},
   "source": [
    "7번 문제입니다.\n",
    "\n",
    "•[프로젝트 오일러 문제 6]\n",
    "\n",
    "1부터 10까지 자연수를 각각 제곱해 더하면 다음과 같습니다 (제곱의 합).\n",
    "\n",
    "12 + 22 + ... + 102 = 385\n",
    "\n",
    "1부터 10을 먼저 더한 다음에 그 결과를 제곱하면 다음과 같습니다 (합의 제곱).\n",
    "\n",
    "(1 + 2 + ... + 10)2 = 552 = 3025\n",
    "\n",
    "따라서 1부터 10까지 자연수에 대해 \"합의 제곱\"과 \"제곱의 합\" 의 차이는 3025 - 385 = 2640 이 됩니다.\n",
    "\n",
    "그러면 1부터 100까지 자연수에 대해 \"합의 제곱\"과 \"제곱의 합\"의 차이는 얼마입니까?\n"
   ]
  },
  {
   "cell_type": "code",
   "execution_count": 9,
   "metadata": {
    "collapsed": false
   },
   "outputs": [
    {
     "name": "stdout",
     "output_type": "stream",
     "text": [
      "정답은 :  25164150\n"
     ]
    }
   ],
   "source": [
    "sum1 = 0;\n",
    "sum2 = 0;\n",
    "for x in range(1, 101):\n",
    "    sum1 += x\n",
    "    sum2 += (x*x)\n",
    "    \n",
    "print '정답은 : ', (sum1*sum1) - sum2"
   ]
  },
  {
   "cell_type": "markdown",
   "metadata": {},
   "source": [
    "합의 제곱을 나타내는 변수 sum1과 제곱의 합을 나타내는 sum2 변수를 선언해줍니다. (둘다 0으로 초기화)\n",
    "\n",
    "그리고 1부터 100까지 반복문을 돌려서 sum1 변수는 1부터 100까지 더해주고 sum2는 각 숫자들을 제곱하고 더하여 줍니다.\n",
    "\n",
    "그리고 마지막엔 합의 제곱 변수인 sum1을 제곱하고 그 값에서 sum2값을 빼줍니다.\n",
    "\n",
    "-> sum1 * sum1 - sum2 \n",
    "\n",
    "그리고 그 값을 출력 해줍니다.\n",
    "\n",
    "---------------------------------------------------------------------------------------------------------------"
   ]
  },
  {
   "cell_type": "markdown",
   "metadata": {},
   "source": [
    "8번 문제입니다.\n",
    "\n",
    "•[Incremental Project] 웹 URL로 지정된 웹페이지를 문자열로 가져와 \n",
    "\n",
    "1) 모든 HTML 태그를 제외한 순수 텍스트 문자열만을 걸러내고, \n",
    "\n",
    "2) 그 순수 텍스트 문자열 안에 존재하는 단어가 총 몇개인지 출력하는 프로그램을 작성하시오.\n",
    "\n",
    "◾HTML 태그는 다음 조건을 가지는 것이다.\n",
    "\n",
    "◦< 로 시작하여 >로 끝난다.\n",
    "\n",
    "◦예를 들어, 아래와 같은 HTML 내용 내에 한 줄이 있다고 가정하자.\n",
    "\n",
    "<label for=\"keep_signed\">로그인 유지</label>\n",
    "\n",
    "◦위 소스에서 HTML 태그를 제외한 순수 텍스트 문자열은 아래와 같다.\n",
    "\n",
    "로그인 유지\n",
    "\n",
    "◦한편, 아래와 같은 HTML 한 줄이 있다고 가정하자.\n",
    "\n",
    "<link rel=\"stylesheet\" href=\"/common/css/xe.min.css?20150910092654\" />\n",
    "\n",
    "◦위 소스는 HTML 태그로만 구성된 것이며 걸러낼 수 있는 순수 텍스 문자열은 존재하지 않는다.\n",
    "\n",
    "◾단어를 나누는 기준은 오로지 공백문자 (whitespace)이다.\n",
    "\n",
    "◦즉, 위 순수 텍스트 문자열인 \"로그인 유지\"에서 분리한 단어는 \"로그인\"과 \"유지\"이다.\n",
    "\n",
    "◾다음은 URL로 지정된 웹페이지를 특정 문자열로 가져오는 코드이다. ◦즉, 숙제 코드는 아래 코드로 부터 시작해야 한다.\n",
    "\n",
    "\n",
    "아래의 코드란?\n",
    "\n",
    "import urllib2\n",
    "\n",
    "source = urllib2.urlopen(\"http://cse.kut.ac.kr/\").read()\n",
    "\n",
    "print source # 추후 숙제 답안 제출 때엔 왼쪽 라인은 주석처리할 것"
   ]
  },
  {
   "cell_type": "code",
   "execution_count": 1,
   "metadata": {
    "collapsed": false
   },
   "outputs": [
    {
     "name": "stdout",
     "output_type": "stream",
     "text": [
      "총 단어의 갯수 :  456\n"
     ]
    }
   ],
   "source": [
    "import urllib2\n",
    "\n",
    "source = urllib2.urlopen(\"http://cse.kut.ac.kr/\").read()\n",
    "\n",
    "starting = False  #태그 여부 변수\n",
    "changedsource = ''\n",
    "for x in range(len(source)):\n",
    "    if source[x] == '<':\n",
    "        starting = True\n",
    "    elif source[x] == '>':\n",
    "        starting = False\n",
    "    elif starting == False and source[x] != '<' and source[x] != '>':\n",
    "        changedsource += source[x]\n",
    "\n",
    "print '총 단어의 갯수 : ', len(changedsource.split())"
   ]
  },
  {
   "cell_type": "markdown",
   "metadata": {
    "collapsed": true
   },
   "source": [
    "제일 먼저 urllib2 헤더를 선언하고 변수에 url 주소를 연결하고, 그 주소의 소스 코드 내용을 변수에 저장해줍니다.\n",
    "\n",
    "그리고 starting 변수를 통해서 '<' 문자를 처음 만나면 현재 지금 태그를 만나고 있는 상태임을 저장(True로 저장) 해줍니다.\n",
    "\n",
    "그리고 '>'가 되면 태그가 끝나므로 태그 상태인 starting를 False로 변환시켜줍니다. \n",
    "\n",
    "그리고 위의 경우를 피해서 태그에 속하는 문자가 아니면서 현재 지나고 있는 문자가 '<'나 '>'이 둘다 아닌 경우에 \n",
    "\n",
    "changedsource 변수에 해당 문자를 저장해줍니다. 그러면 단어만 저장된 변수에는 태그만 없는 상태가 됩니다.\n",
    "\n",
    "그리고 split() 함수를 통하여 공백으로 단어들을 구분하고, changedsource 변수에 사용하여 해당 단어의 갯수를 출력해줍니다."
   ]
  },
  {
   "cell_type": "code",
   "execution_count": null,
   "metadata": {
    "collapsed": true
   },
   "outputs": [],
   "source": []
  }
 ],
 "metadata": {
  "kernelspec": {
   "display_name": "Python 2",
   "language": "python",
   "name": "python2"
  },
  "language_info": {
   "codemirror_mode": {
    "name": "ipython",
    "version": 2
   },
   "file_extension": ".py",
   "mimetype": "text/x-python",
   "name": "python",
   "nbconvert_exporter": "python",
   "pygments_lexer": "ipython2",
   "version": "2.7.9"
  }
 },
 "nbformat": 4,
 "nbformat_minor": 0
}

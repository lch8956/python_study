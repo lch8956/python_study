{
 "cells": [
  {
   "cell_type": "markdown",
   "metadata": {
    "collapsed": false
   },
   "source": [
    "'스크립트 02분반 과제 2011136095 이창환 첫 번째 과제입니다.' \n",
    "\n",
    "밑에서 프로젝트 오일러 1, 2, 3번, 그 다음 이번 단원의 과제 1~8번문제 순으로 갑니다"
   ]
  },
  {
   "cell_type": "markdown",
   "metadata": {},
   "source": [
    "프로젝트 오일러 1번 문제입니다."
   ]
  },
  {
   "cell_type": "code",
   "execution_count": 11,
   "metadata": {
    "collapsed": false
   },
   "outputs": [
    {
     "name": "stdout",
     "output_type": "stream",
     "text": [
      "233168\n"
     ]
    }
   ],
   "source": [
    "sum = 0; #총합 변수\n",
    "\n",
    "for x in range(1000): \n",
    "    if (x % 3 == 0) or (x % 5 == 0): \n",
    "        sum += x          \n",
    "print sum "
   ]
  },
  {
   "cell_type": "markdown",
   "metadata": {},
   "source": [
    "이번 문제는 1부터 1000까지 3이나 5의 배수들을 전부 더하는 문제입니다. \n",
    "우선 0부터 1000까지 저장된 리스트에서 반복문 실행을 하고 그 중에서 조건문에 3이나 5로 나누어 떨어지는 경우만 \n",
    "해당 순서를 총합 변수에 넣어줍니다. 그리고 마지막에 출력합니다"
   ]
  },
  {
   "cell_type": "markdown",
   "metadata": {},
   "source": [
    "프로젝트 오일러 2번 문제입니다."
   ]
  },
  {
   "cell_type": "code",
   "execution_count": 2,
   "metadata": {
    "collapsed": false
   },
   "outputs": [
    {
     "name": "stdout",
     "output_type": "stream",
     "text": [
      "정답은 :  4613732\n"
     ]
    }
   ],
   "source": [
    "array = [1, 2]\n",
    "sum = 2\n",
    "i = 1\n",
    "\n",
    "while array[i-1] + array[i] <= 4000000:    \n",
    "    array = array + [array[i-1] + array[i]]\n",
    "    if array[len(array)-1] % 2 == 0:\n",
    "        sum += array[len(array)-1]\n",
    "    i = i+1\n",
    "print '정답은 : ',sum"
   ]
  },
  {
   "cell_type": "markdown",
   "metadata": {},
   "source": [
    "이번 문제는 피보나치 수열에서 해당하는 항이 4백만 이하이면서 짝수인 모든 항을 더하는 문제입니다.\n",
    "우선 리스트에 1, 2를 넣어주고 해당 항의 앞 항과 그 앞 항의 합이 4백만을 넘지 않는 조건을 걸고 반복문을 돌립니다\n",
    "그리고 그 중에서 짝수인 경우만 추려내서 총합에 더하고 그 결과를 출력합니다."
   ]
  },
  {
   "cell_type": "markdown",
   "metadata": {},
   "source": [
    "프로젝트 오일러 3번 문제입니다."
   ]
  },
  {
   "cell_type": "code",
   "execution_count": 1,
   "metadata": {
    "collapsed": false,
    "scrolled": true
   },
   "outputs": [
    {
     "name": "stdout",
     "output_type": "stream",
     "text": [
      "6857\n"
     ]
    }
   ],
   "source": [
    "number = 600851475143\n",
    "array = [] #아무것도 없는 리스트 선언 이 곳에 number를 나누는 값이 작은 순서부터 들어가게 된다.\n",
    "order = 3 #number의 숫자는 홀수이므로 2의 배수로 나눌 필요가 없다.\n",
    "while number > 1: #주어진 숫자가 더 이상 나눌수 없을 때까지 진행\n",
    "    if number%order == 0: #만약 나누어 떨어진다면\n",
    "        number = number/order #나누고 남은 숫자를 number에 넣는다. 그리고 이렇게 하면 마지막에 남는 게 가장 큰 숫자가 된다.\n",
    "        array = array + [order] #그리고 나누어 떨어진 숫자들을 배열에 넣는다.\n",
    "    order = order + 2 #홀수이므로 짝수로 나뉘는 경우는 고려할 필요가 없으므로 2씩 증가시킨다.\n",
    "print array[-1]       #리스트 맨 마지막에 있는 값이 가장 큰 소수이므로 마지막 값을 출력한다."
   ]
  },
  {
   "cell_type": "markdown",
   "metadata": {
    "collapsed": true
   },
   "source": [
    "맨 처음 주어진 숫자를 바탕으로 해당 숫자의 가장 큰 '소수'인 약수를 구하는 문제입니다.\n",
    "처음 리스트에는 아무 값도 넣지 않고, 시작하며 약수들을 찾는 중 소수인 것만 찾습니다 그리고 그 수로 맨 처음 주어진 수를 나눕니다\n",
    "그리고 나누고 나온 몫에 해당하는 수를 리스트에 넣고 계속 같은 과정을 진행합니다. 그리고 더 이상 나눠지지 않을 떄까지 진행하다가 \n",
    "마지막에는 리스트에 있는 마지막 항을 출력합니다"
   ]
  },
  {
   "cell_type": "markdown",
   "metadata": {},
   "source": [
    "-------------------------------------------------------------------------------------------"
   ]
  },
  {
   "cell_type": "markdown",
   "metadata": {},
   "source": [
    "첫번째 문제 \n",
    "\n",
    "'•a=\"Hello Python\" 문자열을 Slicing과 연결 연산자 (+)를 사용하여 \"Python Hello\"로 변경하시오.'입니다."
   ]
  },
  {
   "cell_type": "code",
   "execution_count": 4,
   "metadata": {
    "collapsed": false
   },
   "outputs": [
    {
     "name": "stdout",
     "output_type": "stream",
     "text": [
      "Hello Python\n",
      "Python Hello\n"
     ]
    }
   ],
   "source": [
    "a = 'Hello Python'\n",
    "print a #변경전 \n",
    "a = a[6:12] + \" \" + a[0:5] #슬라이싱을 이용하여 위치 변경\n",
    "print a #변경후"
   ]
  },
  {
   "cell_type": "markdown",
   "metadata": {},
   "source": [
    "두번째 문제 \n",
    "\n",
    "'•b=\"Hello Python World\" 문자열을 Slicing과 연결 연산자 (+)를 사용하여 \"World Python Hello\"로 변경하시오.'입니다."
   ]
  },
  {
   "cell_type": "code",
   "execution_count": 19,
   "metadata": {
    "collapsed": false
   },
   "outputs": [
    {
     "name": "stdout",
     "output_type": "stream",
     "text": [
      "Hello Python World\n",
      "World Python Hello\n"
     ]
    }
   ],
   "source": [
    "a = 'Hello Python World'\n",
    "print a #변경전 \n",
    "a = a[13:18] + \" \" + a[6:12] + \" \" + a[0:5] #슬라이싱을 이용하여 위치 변경\n",
    "print a #변경후"
   ]
  },
  {
   "cell_type": "markdown",
   "metadata": {},
   "source": [
    "세번째 문제 \n",
    "\n",
    "'•c=\"Hello\"를 \"olleH\"로 변경하시오'입니다."
   ]
  },
  {
   "cell_type": "code",
   "execution_count": 20,
   "metadata": {
    "collapsed": false
   },
   "outputs": [
    {
     "name": "stdout",
     "output_type": "stream",
     "text": [
      "Hello\n",
      "olleH\n"
     ]
    }
   ],
   "source": [
    "c = 'Hello' #처음 초기화 문장\n",
    "print c #변경 전\n",
    "c = c[::-1] #슬라이싱을 이용, 이때 -1단위로 출력하면 맨 뒤에서 부터 역순으로 문자열이 새롭게 c에 저장된다\n",
    "print c #변경 후"
   ]
  },
  {
   "cell_type": "markdown",
   "metadata": {},
   "source": [
    "네번째 문제\n",
    "\n",
    "•s=\"python\"에 대해 다음 문제를 풀어보시오\n",
    "\n",
    "1.s[0], s[0][0], s[0][0][0]은 각각 어떤 값이 나오는지 확인하고 그 이유를 나름대로 설명해 보시오."
   ]
  },
  {
   "cell_type": "code",
   "execution_count": 1,
   "metadata": {
    "collapsed": false,
    "scrolled": true
   },
   "outputs": [
    {
     "name": "stdout",
     "output_type": "stream",
     "text": [
      "출력결과 : p p p\n"
     ]
    }
   ],
   "source": [
    "s = \"python\"\n",
    "print '출력결과 :', s[0], s[0][0], s[0][0][0]"
   ]
  },
  {
   "cell_type": "markdown",
   "metadata": {},
   "source": [
    "해당 이유\n",
    "\n",
    "3가지 리스트 전부다 맨 앞의 문자인 'p'를 가리키고 있기 때문이다. 리스트가 이중, 2중으로 되어있어도 \n",
    "인덱스가 전부 0을 가리키고 있으니 몇중이든 맨 앞의 문자인 'p'를 가리키게 된다.\n"
   ]
  },
  {
   "cell_type": "markdown",
   "metadata": {},
   "source": [
    "2.s[-100], s[100]은 값이 나오는지 에러가 나오는지 확인하고 그 결과에 대한 이유를 나름대로 설명해 보시오."
   ]
  },
  {
   "cell_type": "code",
   "execution_count": 2,
   "metadata": {
    "collapsed": false
   },
   "outputs": [
    {
     "ename": "IndexError",
     "evalue": "string index out of range",
     "output_type": "error",
     "traceback": [
      "\u001b[1;31m---------------------------------------------------------------------------\u001b[0m",
      "\u001b[1;31mIndexError\u001b[0m                                Traceback (most recent call last)",
      "\u001b[1;32m<ipython-input-2-495d6a30ed14>\u001b[0m in \u001b[0;36m<module>\u001b[1;34m()\u001b[0m\n\u001b[0;32m      1\u001b[0m \u001b[1;31m#2.s[-100], s[100]은 값이 나오는지 에러가 나오는지 확인하고 그 결과에 대한 이유를 나름대로 설명해 보시오.\u001b[0m\u001b[1;33m\u001b[0m\u001b[1;33m\u001b[0m\u001b[0m\n\u001b[0;32m      2\u001b[0m \u001b[0ms\u001b[0m \u001b[1;33m=\u001b[0m \u001b[1;34m\"python\"\u001b[0m\u001b[1;33m\u001b[0m\u001b[0m\n\u001b[1;32m----> 3\u001b[1;33m \u001b[1;32mprint\u001b[0m \u001b[0ms\u001b[0m\u001b[1;33m[\u001b[0m\u001b[1;33m-\u001b[0m\u001b[1;36m100\u001b[0m\u001b[1;33m]\u001b[0m\u001b[1;33m,\u001b[0m \u001b[0ms\u001b[0m\u001b[1;33m[\u001b[0m\u001b[1;36m100\u001b[0m\u001b[1;33m]\u001b[0m\u001b[1;33m\u001b[0m\u001b[0m\n\u001b[0m\u001b[0;32m      4\u001b[0m \u001b[1;31m#결과는 에러가 발생한다. 이유는 아래에서 설명\u001b[0m\u001b[1;33m\u001b[0m\u001b[1;33m\u001b[0m\u001b[0m\n\u001b[0;32m      5\u001b[0m \u001b[1;31m#s[-100]과 s[100]은 모두 맨 위에서 선언한 문자열 s의 범위를 넘어가기 때문이다.\u001b[0m\u001b[1;33m\u001b[0m\u001b[1;33m\u001b[0m\u001b[0m\n",
      "\u001b[1;31mIndexError\u001b[0m: string index out of range"
     ]
    }
   ],
   "source": [
    "s = \"python\"\n",
    "print s[-100], s[100]"
   ]
  },
  {
   "cell_type": "markdown",
   "metadata": {},
   "source": [
    "해당 이유\n",
    "\n",
    "s[-100]과 s[100]은 모두 맨 위에서 선언한 문자열 s의 범위를 넘어가기 때문이다."
   ]
  },
  {
   "cell_type": "markdown",
   "metadata": {},
   "source": [
    "3.s[-100, 100]은 값이 나오는지 에러가 나오는지 확인하고 그 결과에 대한 이유를 나름대로 설명해 보시오."
   ]
  },
  {
   "cell_type": "code",
   "execution_count": 3,
   "metadata": {
    "collapsed": false
   },
   "outputs": [
    {
     "ename": "TypeError",
     "evalue": "string indices must be integers, not tuple",
     "output_type": "error",
     "traceback": [
      "\u001b[1;31m---------------------------------------------------------------------------\u001b[0m",
      "\u001b[1;31mTypeError\u001b[0m                                 Traceback (most recent call last)",
      "\u001b[1;32m<ipython-input-3-fcbb9928ba70>\u001b[0m in \u001b[0;36m<module>\u001b[1;34m()\u001b[0m\n\u001b[0;32m      1\u001b[0m \u001b[1;31m#3.s[-100, 100]은 값이 나오는지 에러가 나오는지 확인하고 그 결과에 대한 이유를 나름대로 설명해 보시오.\u001b[0m\u001b[1;33m\u001b[0m\u001b[1;33m\u001b[0m\u001b[0m\n\u001b[0;32m      2\u001b[0m \u001b[0ms\u001b[0m \u001b[1;33m=\u001b[0m \u001b[1;34m\"python\"\u001b[0m\u001b[1;33m\u001b[0m\u001b[0m\n\u001b[1;32m----> 3\u001b[1;33m \u001b[1;32mprint\u001b[0m \u001b[0ms\u001b[0m\u001b[1;33m[\u001b[0m\u001b[1;33m-\u001b[0m\u001b[1;36m100\u001b[0m\u001b[1;33m,\u001b[0m \u001b[1;36m100\u001b[0m\u001b[1;33m]\u001b[0m\u001b[1;33m\u001b[0m\u001b[0m\n\u001b[0m\u001b[0;32m      4\u001b[0m \u001b[1;31m#결과는 에러가 발생한다 이유는 아래에서 설명\u001b[0m\u001b[1;33m\u001b[0m\u001b[1;33m\u001b[0m\u001b[0m\n\u001b[0;32m      5\u001b[0m \u001b[1;31m#위의 문제와 마찬가지로 출력할 인덱스의 범위가 문자열 s의 범위를 넘어서기 때문에 그 부분을 출력 할 수 없어서 에러 발생\u001b[0m\u001b[1;33m\u001b[0m\u001b[1;33m\u001b[0m\u001b[0m\n",
      "\u001b[1;31mTypeError\u001b[0m: string indices must be integers, not tuple"
     ]
    }
   ],
   "source": [
    "s = \"python\"\n",
    "print s[-100, 100]"
   ]
  },
  {
   "cell_type": "markdown",
   "metadata": {},
   "source": [
    "해당 이유 \n",
    "\n",
    "위의 문제와 마찬가지로 출력할 인덱스의 범위가 문자열 s의 범위를 넘어서기 때문에 그 부분을 출력 할 수 없어서 에러 발생"
   ]
  },
  {
   "cell_type": "markdown",
   "metadata": {},
   "source": [
    "4.s[1:-1]의 결과를 확인하고 그 결과에 대한 이유를 정확하게 설명하시오."
   ]
  },
  {
   "cell_type": "code",
   "execution_count": 4,
   "metadata": {
    "collapsed": false
   },
   "outputs": [
    {
     "name": "stdout",
     "output_type": "stream",
     "text": [
      "출력결과 : ytho\n"
     ]
    }
   ],
   "source": [
    "s = \"python\"\n",
    "print '출력결과 :', s[1:-1]\n"
   ]
  },
  {
   "cell_type": "markdown",
   "metadata": {},
   "source": [
    "해당 이유 \n",
    "\n",
    "여기서 s[1]은 'y', s[-1]은 'n'을 뜻한다. 문자열 s의 y부터 n의 전 문자까지 출력하라는 의미가 되어 \n",
    "y, t, h, o까지만 출력하게 된다."
   ]
  },
  {
   "cell_type": "markdown",
   "metadata": {},
   "source": [
    "5.s[3:-3]의 결과를 확인하고 그 결과에 대한 이유를 정확하게 설명하시오."
   ]
  },
  {
   "cell_type": "code",
   "execution_count": 6,
   "metadata": {
    "collapsed": false
   },
   "outputs": [
    {
     "name": "stdout",
     "output_type": "stream",
     "text": [
      "출력결과 : \n"
     ]
    }
   ],
   "source": [
    "print '출력결과 :', s[3:-3]\n",
    "#아무것도 출력되지 않는다. 이유는 아래에서 설명"
   ]
  },
  {
   "cell_type": "markdown",
   "metadata": {},
   "source": [
    "해당 이유\n",
    "\n",
    "문자열 s[3]은 'h'이고 s[-3] 또한 'h'이다. 즉 여기서 s[3:-3]은 바꿔 말하면 s[3:3]과 같은 의미가 되는데\n",
    "s[3:3]은 인덱스3가 3인 문자부터 인덱스가 3인 문자의 전 문자까지만 출력하라는 의미가 되어 아무것도 출력 할 수 없게된다."
   ]
  },
  {
   "cell_type": "markdown",
   "metadata": {},
   "source": [
    "다섯번째 문제\n",
    "\n",
    "•for문을 활용하여 1부터 100사이의 홀수를 출력하시오."
   ]
  },
  {
   "cell_type": "code",
   "execution_count": 8,
   "metadata": {
    "collapsed": false
   },
   "outputs": [
    {
     "name": "stdout",
     "output_type": "stream",
     "text": [
      "1 3 5 7 9 11 13 15 17 19 21 23 25 27 29 31 33 35 37 39 41 43 45 47 49 51 53 55 57 59 61 63 65 67 69 71 73 75 77 79 81 83 85 87 89 91 93 95 97 99\n"
     ]
    }
   ],
   "source": [
    "for x in range(1, 100): #1부터 100까지 범위 설정\n",
    "    if x % 2 == 1: # 홀수인 경우만 출력\n",
    "        print x, "
   ]
  },
  {
   "cell_type": "markdown",
   "metadata": {},
   "source": [
    "여섯번째 문제\n",
    "\n",
    "•while문을 활용하여 1부터 100사이의 짝수의 합을 계산하여 출력하시오."
   ]
  },
  {
   "cell_type": "code",
   "execution_count": 13,
   "metadata": {
    "collapsed": false
   },
   "outputs": [
    {
     "name": "stdout",
     "output_type": "stream",
     "text": [
      "2550\n"
     ]
    }
   ],
   "source": [
    "#여섯번째 문제\n",
    "#•while문을 활용하여 1부터 100사이의 짝수의 합을 계산하여 출력하시오.\n",
    "\n",
    "sum = 0\n",
    "x = 1\n",
    "while x <= 100:\n",
    "    if x % 2 == 0:\n",
    "        sum += x\n",
    "    x = x + 1\n",
    "print sum    \n"
   ]
  },
  {
   "cell_type": "markdown",
   "metadata": {},
   "source": [
    "일곱번째 문제\n",
    "\n",
    "•사용자로 부터 임의의 정수를 입력받고, 해당 숫자를 역순으로 출력하는 프로그램을 작성하시오."
   ]
  },
  {
   "cell_type": "code",
   "execution_count": 26,
   "metadata": {
    "collapsed": false
   },
   "outputs": [
    {
     "name": "stdout",
     "output_type": "stream",
     "text": [
      "input number : 1234\n",
      "4321\n"
     ]
    }
   ],
   "source": [
    "name = raw_input('input number : ') #입력받을 정수는 문자열 형태로 입력받는다\n",
    "name = name[::-1] #문자열을 역순으로 뒤집어 다시 변수에 넣어준다\n",
    "\n",
    "print name #출력"
   ]
  },
  {
   "cell_type": "markdown",
   "metadata": {},
   "source": [
    "여덟번째 문제\n",
    "\n",
    "•사용자로 부터 정수를 입력받아서 1부터 그 사이에 존재하는 소수 (Prime number)를 출력하는 파이썬 프로그램을 작성하시오."
   ]
  },
  {
   "cell_type": "code",
   "execution_count": 15,
   "metadata": {
    "collapsed": false,
    "scrolled": true
   },
   "outputs": [
    {
     "name": "stdout",
     "output_type": "stream",
     "text": [
      "input number : 100\n",
      "Prime Number output :  2\n",
      "Prime Number output :  3\n",
      "Prime Number output :  5\n",
      "Prime Number output :  7\n",
      "Prime Number output :  11\n",
      "Prime Number output :  13\n",
      "Prime Number output :  17\n",
      "Prime Number output :  19\n",
      "Prime Number output :  23\n",
      "Prime Number output :  29\n",
      "Prime Number output :  31\n",
      "Prime Number output :  37\n",
      "Prime Number output :  41\n",
      "Prime Number output :  43\n",
      "Prime Number output :  47\n",
      "Prime Number output :  53\n",
      "Prime Number output :  59\n",
      "Prime Number output :  61\n",
      "Prime Number output :  67\n",
      "Prime Number output :  71\n",
      "Prime Number output :  73\n",
      "Prime Number output :  79\n",
      "Prime Number output :  83\n",
      "Prime Number output :  89\n",
      "Prime Number output :  97\n"
     ]
    }
   ],
   "source": [
    "import math\n",
    "\n",
    "def isPrime(x): #함수 선언 \n",
    "    returning = True #반환값 \n",
    "    for i in range(2,int(math.sqrt(x))+1): #숫자 2부터 판별 int(math.sqrt(x))+1 이 부분은 소수를 구하는 범위\n",
    "        if x%i==0: #약수가 존재하면 False 반환\n",
    "            returning = False\n",
    "            return returning #약수가 존재하면 더 이상 진행할 필요 없이 종료\n",
    "    return returning\n",
    "\n",
    "inputNum = int(raw_input('input number : ')) #문자열로 정수를 받아 정수로 변환해줌 \n",
    "\n",
    "for x in range(2, inputNum):\n",
    "    if isPrime(x): #소수인지 판별하는 함수\n",
    "        print \"Prime Number output : \", x #소수만 출력"
   ]
  },
  {
   "cell_type": "code",
   "execution_count": null,
   "metadata": {
    "collapsed": true
   },
   "outputs": [],
   "source": []
  },
  {
   "cell_type": "markdown",
   "metadata": {
    "collapsed": true
   },
   "source": [
    "소감 \n",
    "\n",
    "1번부터 8?번까지 해당하는 문제들은 비교적 기초적인 것만 알면 쉽게 풀수 있는 굉장히 쉬운 문제였지만,/ \n",
    "9번부터 11번 즉 오일러 시리즈에 해당하는 문제들은 기본적인 수학적 지식들과 그에 따른 코딩능력들도 요구하기 때문에 \n",
    "생각보다 까다로운 면이 있었습니다. 그래도 이러한 문제들을 많이 풀어보고 적응되면 앞으로 파이썬 말고도 다른 프로그래밍을 할때도 \n",
    "큰 도움이 될것이라고 생각됩니다."
   ]
  }
 ],
 "metadata": {
  "kernelspec": {
   "display_name": "Python 2",
   "language": "python",
   "name": "python2"
  },
  "language_info": {
   "codemirror_mode": {
    "name": "ipython",
    "version": 2
   },
   "file_extension": ".py",
   "mimetype": "text/x-python",
   "name": "python",
   "nbconvert_exporter": "python",
   "pygments_lexer": "ipython2",
   "version": "2.7.9"
  }
 },
 "nbformat": 4,
 "nbformat_minor": 0
}
